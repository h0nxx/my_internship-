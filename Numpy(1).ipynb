{
  "nbformat": 4,
  "nbformat_minor": 0,
  "metadata": {
    "colab": {
      "provenance": []
    },
    "kernelspec": {
      "name": "python3",
      "display_name": "Python 3"
    },
    "language_info": {
      "name": "python"
    }
  },
  "cells": [
    {
      "cell_type": "code",
      "source": [
        "import numpy as np\n",
        "\n",
        "a= np.array([1,2,3])\n",
        "print(a)\n",
        "print(\"****20 array***\")\n"
      ],
      "metadata": {
        "colab": {
          "base_uri": "https://localhost:8080/"
        },
        "id": "iJZmY_JYL0ZU",
        "outputId": "b1e5f60d-ab71-4bf0-d40a-6b4aaa0d6ac6"
      },
      "execution_count": null,
      "outputs": [
        {
          "output_type": "stream",
          "name": "stdout",
          "text": [
            "[1 2 3]\n",
            "****20 array***\n"
          ]
        }
      ]
    },
    {
      "cell_type": "code",
      "source": [
        "c=np.array([1,2,3])\n",
        "print(a)\n",
        "print(\"*\" * 10)\n",
        "b=np.array([[5,6,3],[6,1,3]])\n",
        "print(b)"
      ],
      "metadata": {
        "colab": {
          "base_uri": "https://localhost:8080/"
        },
        "id": "6Gnw8yKnRrJb",
        "outputId": "6a27a010-a29f-4a06-c941-7b49c97dc6bc"
      },
      "execution_count": null,
      "outputs": [
        {
          "output_type": "stream",
          "name": "stdout",
          "text": [
            "[1 2 3]\n",
            "**********\n",
            "[[5 6 3]\n",
            " [6 1 3]]\n"
          ]
        }
      ]
    },
    {
      "cell_type": "code",
      "source": [
        "c=np.array([[[5,6,3],[6,1,2],[5,2,1]]])\n",
        "print(c)"
      ],
      "metadata": {
        "colab": {
          "base_uri": "https://localhost:8080/"
        },
        "id": "arpj4TM0Sjco",
        "outputId": "ceb28f83-3d61-4046-8e50-27c91cb1ee15"
      },
      "execution_count": null,
      "outputs": [
        {
          "output_type": "stream",
          "name": "stdout",
          "text": [
            "[[[5 6 3]\n",
            "  [6 1 2]\n",
            "  [5 2 1]]]\n"
          ]
        }
      ]
    },
    {
      "cell_type": "code",
      "source": [
        "c=np.array([[[5,6,3],[6,1,2],[5,2,1]]])\n",
        "print(c)\n",
        "print(a.ndim)\n",
        "print(b.ndim)\n",
        "print(c.ndim)"
      ],
      "metadata": {
        "colab": {
          "base_uri": "https://localhost:8080/"
        },
        "id": "xcvTqFlmVjmv",
        "outputId": "8f89d519-5e85-4400-8919-a564d7dd3de5"
      },
      "execution_count": null,
      "outputs": [
        {
          "output_type": "stream",
          "name": "stdout",
          "text": [
            "[[[5 6 3]\n",
            "  [6 1 2]\n",
            "  [5 2 1]]]\n",
            "1\n",
            "2\n",
            "3\n"
          ]
        }
      ]
    },
    {
      "cell_type": "code",
      "source": [
        "print(a.shape)\n",
        "print(b.shape)\n",
        "print(c.shape)"
      ],
      "metadata": {
        "colab": {
          "base_uri": "https://localhost:8080/"
        },
        "id": "a_AN2mXsWYKS",
        "outputId": "ab4468b6-4c5b-446e-b573-95593036e115"
      },
      "execution_count": null,
      "outputs": [
        {
          "output_type": "stream",
          "name": "stdout",
          "text": [
            "(3,)\n",
            "(2, 3)\n",
            "(1, 3, 3)\n"
          ]
        }
      ]
    },
    {
      "cell_type": "code",
      "source": [
        "print(a.size)\n",
        "print(b.size)\n",
        "print(c.size)"
      ],
      "metadata": {
        "colab": {
          "base_uri": "https://localhost:8080/"
        },
        "id": "xqagNlADWl4W",
        "outputId": "2d1f9bf3-ec66-4db6-9ca5-1ce5122509d5"
      },
      "execution_count": null,
      "outputs": [
        {
          "output_type": "stream",
          "name": "stdout",
          "text": [
            "3\n",
            "6\n",
            "9\n"
          ]
        }
      ]
    },
    {
      "cell_type": "code",
      "source": [
        "print(a.dtype)\n",
        "print(b.dtype)\n",
        "print(c.dtype)"
      ],
      "metadata": {
        "colab": {
          "base_uri": "https://localhost:8080/"
        },
        "id": "C7E2U2-3W2vQ",
        "outputId": "ba1ee863-5000-44d8-c65a-78789cbe7ece"
      },
      "execution_count": null,
      "outputs": [
        {
          "output_type": "stream",
          "name": "stdout",
          "text": [
            "int64\n",
            "int64\n",
            "int64\n"
          ]
        }
      ]
    },
    {
      "cell_type": "code",
      "source": [
        "a=np.arange(11,21)\n",
        "print(a)\n",
        "b=np.arange(1,21)\n",
        "print(b)\n",
        "print(\"*****\")\n",
        "b=np.arange(1,21).reshape([4,5,1])\n",
        "print(b)\n",
        "d=np.arange(5,51,5).reshape([1,5,2])\n",
        "print(d)\n"
      ],
      "metadata": {
        "colab": {
          "base_uri": "https://localhost:8080/"
        },
        "id": "U0WwywWYX39P",
        "outputId": "b30a30f5-0ddd-40c7-9ccd-f0485efb187e"
      },
      "execution_count": null,
      "outputs": [
        {
          "output_type": "stream",
          "name": "stdout",
          "text": [
            "[11 12 13 14 15 16 17 18 19 20]\n",
            "[ 1  2  3  4  5  6  7  8  9 10 11 12 13 14 15 16 17 18 19 20]\n",
            "*****\n",
            "[[[ 1]\n",
            "  [ 2]\n",
            "  [ 3]\n",
            "  [ 4]\n",
            "  [ 5]]\n",
            "\n",
            " [[ 6]\n",
            "  [ 7]\n",
            "  [ 8]\n",
            "  [ 9]\n",
            "  [10]]\n",
            "\n",
            " [[11]\n",
            "  [12]\n",
            "  [13]\n",
            "  [14]\n",
            "  [15]]\n",
            "\n",
            " [[16]\n",
            "  [17]\n",
            "  [18]\n",
            "  [19]\n",
            "  [20]]]\n",
            "[[[ 5 10]\n",
            "  [15 20]\n",
            "  [25 30]\n",
            "  [35 40]\n",
            "  [45 50]]]\n"
          ]
        }
      ]
    },
    {
      "cell_type": "code",
      "source": [
        "a = np.arange(6)\n",
        "print(a.reshape((2, 3)))\n",
        "\n",
        "print(a.flatten())"
      ],
      "metadata": {
        "colab": {
          "base_uri": "https://localhost:8080/"
        },
        "id": "NYKAMhSIasch",
        "outputId": "a93f1b18-a6f3-4b55-a7d2-1660e003061b"
      },
      "execution_count": null,
      "outputs": [
        {
          "output_type": "stream",
          "name": "stdout",
          "text": [
            "[[0 1 2]\n",
            " [3 4 5]]\n",
            "[0 1 2 3 4 5]\n"
          ]
        }
      ]
    },
    {
      "cell_type": "code",
      "source": [
        "import numpy as np\n",
        "\n",
        "arr = np.array([20,30,40,50,70])"
      ],
      "metadata": {
        "id": "YRJEpHdtQxT8"
      },
      "execution_count": null,
      "outputs": []
    },
    {
      "cell_type": "code",
      "source": [
        "print(\"array:\",arr)"
      ],
      "metadata": {
        "colab": {
          "base_uri": "https://localhost:8080/"
        },
        "id": "-7g4ihsyR8ly",
        "outputId": "33fdb0b0-92bb-4d1f-b013-c2e72fe1a92d"
      },
      "execution_count": null,
      "outputs": [
        {
          "output_type": "stream",
          "name": "stdout",
          "text": [
            "array: [20 30 40 50 70]\n"
          ]
        }
      ]
    },
    {
      "cell_type": "code",
      "source": [
        "print(\"sum:\",arr.sum())"
      ],
      "metadata": {
        "colab": {
          "base_uri": "https://localhost:8080/"
        },
        "id": "sg682BK8SHlv",
        "outputId": "9438975e-4e9c-4d2d-8828-f58557d3c3cd"
      },
      "execution_count": null,
      "outputs": [
        {
          "output_type": "stream",
          "name": "stdout",
          "text": [
            "sum: 210\n"
          ]
        }
      ]
    },
    {
      "cell_type": "code",
      "source": [
        "print(\"mean:\",arr.mean())"
      ],
      "metadata": {
        "colab": {
          "base_uri": "https://localhost:8080/"
        },
        "id": "UIFd4m_1Sal7",
        "outputId": "654d462a-085f-4e68-d201-aafec0a792ab"
      },
      "execution_count": null,
      "outputs": [
        {
          "output_type": "stream",
          "name": "stdout",
          "text": [
            "mean: 42.0\n"
          ]
        }
      ]
    },
    {
      "cell_type": "code",
      "source": [
        "print(\"median:\",np.median(arr))"
      ],
      "metadata": {
        "colab": {
          "base_uri": "https://localhost:8080/"
        },
        "id": "STDw6VpQTATh",
        "outputId": "a39b6a07-e74b-4190-db46-627dac9e7cc8"
      },
      "execution_count": null,
      "outputs": [
        {
          "output_type": "stream",
          "name": "stdout",
          "text": [
            "median: 40.0\n"
          ]
        }
      ]
    },
    {
      "cell_type": "code",
      "source": [
        "print(\"std:\",np.std(arr))"
      ],
      "metadata": {
        "colab": {
          "base_uri": "https://localhost:8080/"
        },
        "id": "HRpYZyZyTcsk",
        "outputId": "a25eadd2-83aa-4859-e613-b34c53e3df26"
      },
      "execution_count": null,
      "outputs": [
        {
          "output_type": "stream",
          "name": "stdout",
          "text": [
            "std: 17.204650534085253\n"
          ]
        }
      ]
    },
    {
      "cell_type": "code",
      "source": [
        "print(\"argmax:\",np.argmax(arr))"
      ],
      "metadata": {
        "colab": {
          "base_uri": "https://localhost:8080/"
        },
        "id": "uaQgzC_aT-bo",
        "outputId": "0d98247f-a1bd-4083-8267-dc02037141c1"
      },
      "execution_count": null,
      "outputs": [
        {
          "output_type": "stream",
          "name": "stdout",
          "text": [
            "argmax: 4\n"
          ]
        }
      ]
    },
    {
      "cell_type": "code",
      "source": [
        "print(\"argmin:\",np.argmin(arr))"
      ],
      "metadata": {
        "colab": {
          "base_uri": "https://localhost:8080/"
        },
        "id": "omp2X9JGUTaC",
        "outputId": "13172146-55aa-47e2-f7f3-5dc521bca3fc"
      },
      "execution_count": null,
      "outputs": [
        {
          "output_type": "stream",
          "name": "stdout",
          "text": [
            "argmin: 0\n"
          ]
        }
      ]
    },
    {
      "cell_type": "code",
      "source": [
        "print(\"max:\",np.max(arr))"
      ],
      "metadata": {
        "colab": {
          "base_uri": "https://localhost:8080/"
        },
        "id": "5pXnkFD6Ufzu",
        "outputId": "38fd41a6-dbff-4111-d9bc-bb1228b5cfff"
      },
      "execution_count": null,
      "outputs": [
        {
          "output_type": "stream",
          "name": "stdout",
          "text": [
            "max: 70\n"
          ]
        }
      ]
    },
    {
      "cell_type": "code",
      "source": [
        "print(\"min:\",np.min(arr))"
      ],
      "metadata": {
        "colab": {
          "base_uri": "https://localhost:8080/"
        },
        "id": "GNCEtW8zUpFR",
        "outputId": "73864fd5-b5ae-434f-b5a6-473485a012c9"
      },
      "execution_count": null,
      "outputs": [
        {
          "output_type": "stream",
          "name": "stdout",
          "text": [
            "min: 20\n"
          ]
        }
      ]
    },
    {
      "cell_type": "code",
      "source": [
        "print(\"variance:\",np.var(arr))"
      ],
      "metadata": {
        "colab": {
          "base_uri": "https://localhost:8080/"
        },
        "id": "9JpcachfU00N",
        "outputId": "d4731804-f5f4-42e0-96b9-6b14ab32a05f"
      },
      "execution_count": null,
      "outputs": [
        {
          "output_type": "stream",
          "name": "stdout",
          "text": [
            "variance: 296.0\n"
          ]
        }
      ]
    },
    {
      "cell_type": "code",
      "source": [
        "xy = np.array([[20,30,40,50,70],[25,35,45,55,77]])\n",
        "print(xy)"
      ],
      "metadata": {
        "colab": {
          "base_uri": "https://localhost:8080/"
        },
        "id": "2MmQqxJwVBgh",
        "outputId": "d472e7aa-e7f1-4646-eb1c-28e55ad4bcd5"
      },
      "execution_count": null,
      "outputs": [
        {
          "output_type": "stream",
          "name": "stdout",
          "text": [
            "[[20 30 40 50 70]\n",
            " [25 35 45 55 77]]\n"
          ]
        }
      ]
    },
    {
      "cell_type": "code",
      "source": [
        "print(\"sum:\",np.sum(xy, axis=0))"
      ],
      "metadata": {
        "colab": {
          "base_uri": "https://localhost:8080/"
        },
        "id": "sHXDN6n7ViuK",
        "outputId": "65296d6d-86b3-4b71-b17e-31746091af3a"
      },
      "execution_count": null,
      "outputs": [
        {
          "output_type": "stream",
          "name": "stdout",
          "text": [
            "sum: [ 45  65  85 105 147]\n"
          ]
        }
      ]
    },
    {
      "cell_type": "code",
      "source": [
        "print(\"mean:\",np.mean(xy,axis=0))"
      ],
      "metadata": {
        "colab": {
          "base_uri": "https://localhost:8080/"
        },
        "id": "MkBHcHJpXEy0",
        "outputId": "fd1d0931-988f-4649-bebd-03c1e14ddca6"
      },
      "execution_count": null,
      "outputs": [
        {
          "output_type": "stream",
          "name": "stdout",
          "text": [
            "mean: [22.5 32.5 42.5 52.5 73.5]\n"
          ]
        }
      ]
    },
    {
      "cell_type": "code",
      "source": [
        "print(\"median:\",np.median(xy,axis=1))"
      ],
      "metadata": {
        "colab": {
          "base_uri": "https://localhost:8080/"
        },
        "id": "2F3uqgjpXUwi",
        "outputId": "b1c9fb3b-ef3a-42da-da29-cd8e9f0f838b"
      },
      "execution_count": null,
      "outputs": [
        {
          "output_type": "stream",
          "name": "stdout",
          "text": [
            "median: [40. 45.]\n"
          ]
        }
      ]
    },
    {
      "cell_type": "code",
      "source": [
        "print(\"cumulative sum:\",np.cumsum(arr))"
      ],
      "metadata": {
        "colab": {
          "base_uri": "https://localhost:8080/"
        },
        "id": "4CNoMFLkXjhJ",
        "outputId": "a5fb30c0-75c2-4227-8474-1455783c0caa"
      },
      "execution_count": null,
      "outputs": [
        {
          "output_type": "stream",
          "name": "stdout",
          "text": [
            "cumulative sum: [ 20  50  90 140 210 235 270 315 370 447]\n"
          ]
        }
      ]
    },
    {
      "cell_type": "code",
      "source": [
        "print(\"cumlative product:\",np.cumprod(arr))"
      ],
      "metadata": {
        "colab": {
          "base_uri": "https://localhost:8080/"
        },
        "id": "mv5uGFX7aB5k",
        "outputId": "77a21370-28b8-4616-d9d0-9d7e85f4ea30"
      },
      "execution_count": null,
      "outputs": [
        {
          "output_type": "stream",
          "name": "stdout",
          "text": [
            "cumlative product: [               20               600             24000           1200000\n",
            "          84000000        2100000000       73500000000     3307500000000\n",
            "   181912500000000 14007262500000000]\n"
          ]
        }
      ]
    },
    {
      "cell_type": "code",
      "source": [
        "bool_type = np.array([xy,xy,xy])\n",
        "print(\"boolean val:\",np.any(bool_type))"
      ],
      "metadata": {
        "colab": {
          "base_uri": "https://localhost:8080/"
        },
        "id": "GGLCdJ44bQkW",
        "outputId": "3c0103b8-6fc7-46fe-a556-9292ee6865e5"
      },
      "execution_count": null,
      "outputs": [
        {
          "output_type": "stream",
          "name": "stdout",
          "text": [
            "boolean val: True\n"
          ]
        }
      ]
    },
    {
      "cell_type": "code",
      "source": [
        "xy = np.array([[1,2,3],\n",
        "               [4,5,6],\n",
        "               [7,8,9]])\n",
        "\n",
        "print(xy[-1,1])\n",
        "print(xy[2,2])"
      ],
      "metadata": {
        "colab": {
          "base_uri": "https://localhost:8080/"
        },
        "id": "jIoEKvAnetBW",
        "outputId": "732dbb9c-1932-42ce-b738-62749cdc6c7b"
      },
      "execution_count": null,
      "outputs": [
        {
          "output_type": "stream",
          "name": "stdout",
          "text": [
            "8\n",
            "9\n"
          ]
        }
      ]
    },
    {
      "cell_type": "code",
      "source": [
        "arr = np.array([10,20,30,40,50])\n",
        "\n",
        "print(arr[1:4])\n",
        "print(arr[:3])\n",
        "print(arr[2:])\n",
        "print(arr[::2])"
      ],
      "metadata": {
        "colab": {
          "base_uri": "https://localhost:8080/"
        },
        "id": "ZuXgkuK1hSPT",
        "outputId": "9f03270f-cefb-44bb-ea06-e4b137ad52dc"
      },
      "execution_count": null,
      "outputs": [
        {
          "output_type": "stream",
          "name": "stdout",
          "text": [
            "[20 30 40]\n",
            "[10 20 30]\n",
            "[30 40 50]\n",
            "[10 30 50]\n"
          ]
        }
      ]
    },
    {
      "cell_type": "code",
      "source": [
        "arr2d = np.array([[1,2,3],\n",
        "                  [4,5,6],\n",
        "                  [7,8,9]])\n",
        "\n",
        "print(arr2d[0:2,1:3])\n",
        "print(arr2d[:,0])\n",
        "print(arr2d[1, :])"
      ],
      "metadata": {
        "colab": {
          "base_uri": "https://localhost:8080/"
        },
        "id": "mTl2SvDuj2Sl",
        "outputId": "19fe11dd-7fb2-4e41-a8f0-03a14eb7ac28"
      },
      "execution_count": null,
      "outputs": [
        {
          "output_type": "stream",
          "name": "stdout",
          "text": [
            "[[2 3]\n",
            " [5 6]]\n",
            "[1 4 7]\n",
            "[4 5 6]\n"
          ]
        }
      ]
    },
    {
      "cell_type": "code",
      "source": [
        "import numpy as np\n",
        "a=np.array([[1,2,3],[3,4,5],[5,6,7]])\n",
        "b=np.array([[3,2,1],[5,4,3],[7,6,5]])\n",
        "s=np.add(a,b)\n",
        "print(s)"
      ],
      "metadata": {
        "id": "ODECBbXNj0F2",
        "colab": {
          "base_uri": "https://localhost:8080/"
        },
        "outputId": "43f1ea32-4b11-4ce9-c113-4ebd4a0e1bf2"
      },
      "execution_count": null,
      "outputs": [
        {
          "output_type": "stream",
          "name": "stdout",
          "text": [
            "[[ 4  4  4]\n",
            " [ 8  8  8]\n",
            " [12 12 12]]\n"
          ]
        }
      ]
    },
    {
      "cell_type": "code",
      "source": [
        "a=np.array([[1,2,3],[3,4,5],[5,6,7]])\n",
        "b=np.array([[3,2,1],[5,4,3],[7,6,5]])\n",
        "s=np.subtract(a,b)\n",
        "print(s)"
      ],
      "metadata": {
        "colab": {
          "base_uri": "https://localhost:8080/"
        },
        "id": "pXdOyS4CaURS",
        "outputId": "9185ff0e-bc3f-482f-b383-2ef0314a2175"
      },
      "execution_count": null,
      "outputs": [
        {
          "output_type": "stream",
          "name": "stdout",
          "text": [
            "[[-2  0  2]\n",
            " [-2  0  2]\n",
            " [-2  0  2]]\n"
          ]
        }
      ]
    },
    {
      "cell_type": "code",
      "source": [
        "a=np.array([[1,2,3],[3,4,5],[5,6,7]])\n",
        "b=np.array([[3,2,1],[5,4,3],[7,6,5]])\n",
        "m=np.multiply(a,b)\n",
        "print(m)"
      ],
      "metadata": {
        "colab": {
          "base_uri": "https://localhost:8080/"
        },
        "id": "h48o-rfHaiCd",
        "outputId": "9dd8ab73-3e66-4271-b0bc-71bdcd6e0278"
      },
      "execution_count": null,
      "outputs": [
        {
          "output_type": "stream",
          "name": "stdout",
          "text": [
            "[[ 3  4  3]\n",
            " [15 16 15]\n",
            " [35 36 35]]\n"
          ]
        }
      ]
    },
    {
      "cell_type": "code",
      "source": [
        "a=np.array([[1,2,3],[3,4,5],[5,6,7]])\n",
        "b=np.array([[3,2,1],[5,4,3],[7,6,5]])\n",
        "d=np.divide(a,b)\n",
        "print(d)"
      ],
      "metadata": {
        "colab": {
          "base_uri": "https://localhost:8080/"
        },
        "id": "IX2T1DFFauPv",
        "outputId": "1958afe5-adf3-435a-8e25-77bcc0c83727"
      },
      "execution_count": null,
      "outputs": [
        {
          "output_type": "stream",
          "name": "stdout",
          "text": [
            "[[0.33333333 1.         3.        ]\n",
            " [0.6        1.         1.66666667]\n",
            " [0.71428571 1.         1.4       ]]\n"
          ]
        }
      ]
    },
    {
      "cell_type": "code",
      "source": [
        "a=np.array([[1,2,3],[3,4,5],[5,6,7]])\n",
        "b=np.array([[3,2,1],[5,4,3],[7,6,5]])\n",
        "c=np.add(a,b)\n",
        "print(a//b)"
      ],
      "metadata": {
        "colab": {
          "base_uri": "https://localhost:8080/"
        },
        "id": "bg_cuOe-bVL8",
        "outputId": "05ebc997-7261-427c-d9d2-fb7f3c11ee36"
      },
      "execution_count": null,
      "outputs": [
        {
          "output_type": "stream",
          "name": "stdout",
          "text": [
            "[[0 1 3]\n",
            " [0 1 1]\n",
            " [0 1 1]]\n"
          ]
        }
      ]
    },
    {
      "cell_type": "code",
      "source": [
        "a=np.array([[1,2,3],[3,4,5],[5,6,7]])\n",
        "b=np.array([[3,2,1],[5,4,3],[7,6,5]])\n",
        "c=np.add(a,b)\n",
        "print(a+4)"
      ],
      "metadata": {
        "colab": {
          "base_uri": "https://localhost:8080/"
        },
        "id": "Ze-UjEMDbeNu",
        "outputId": "da570fa2-7d52-4710-9a59-9d5ef57a5b58"
      },
      "execution_count": null,
      "outputs": [
        {
          "output_type": "stream",
          "name": "stdout",
          "text": [
            "[[ 5  6  7]\n",
            " [ 7  8  9]\n",
            " [ 9 10 11]]\n"
          ]
        }
      ]
    },
    {
      "cell_type": "code",
      "source": [
        "a=np.array([[1,2,3],[3,4,5],[5,6,7]])\n",
        "b=np.array([[3,2,1],[5,4,3],[7,6,5]])\n",
        "c=np.add(a,b)\n",
        "print(a*3)"
      ],
      "metadata": {
        "colab": {
          "base_uri": "https://localhost:8080/"
        },
        "id": "VfDq4780biDC",
        "outputId": "5293eaaa-3d5e-4af9-ae7b-7e54894a3bff"
      },
      "execution_count": null,
      "outputs": [
        {
          "output_type": "stream",
          "name": "stdout",
          "text": [
            "[[ 3  6  9]\n",
            " [ 9 12 15]\n",
            " [15 18 21]]\n"
          ]
        }
      ]
    },
    {
      "cell_type": "code",
      "source": [
        "a=np.array([[1,2,3],[3,4,5],[5,6,7]])\n",
        "b=np.array([[3,2,1],[5,4,3],[7,6,5]])\n",
        "c=np.add(a,b)\n",
        "print(a**2)"
      ],
      "metadata": {
        "colab": {
          "base_uri": "https://localhost:8080/"
        },
        "id": "obRF3FbEbmhv",
        "outputId": "ce339fb5-6245-47d4-a9ad-ff6cdcf19dc4"
      },
      "execution_count": null,
      "outputs": [
        {
          "output_type": "stream",
          "name": "stdout",
          "text": [
            "[[ 1  4  9]\n",
            " [ 9 16 25]\n",
            " [25 36 49]]\n"
          ]
        }
      ]
    },
    {
      "cell_type": "code",
      "source": [
        "a=np.array([[1,2,3],[3,4,5],[5,6,7]])\n",
        "b=np.array([[3,2,1],[5,4,3],[7,6,5]])\n",
        "c=np.add(a,b)\n",
        "print(a%3)"
      ],
      "metadata": {
        "colab": {
          "base_uri": "https://localhost:8080/"
        },
        "id": "uGYdo8wobtSX",
        "outputId": "31c8a888-12a6-42f5-cfe5-cf99c7788191"
      },
      "execution_count": null,
      "outputs": [
        {
          "output_type": "stream",
          "name": "stdout",
          "text": [
            "[[1 2 0]\n",
            " [0 1 2]\n",
            " [2 0 1]]\n"
          ]
        }
      ]
    },
    {
      "cell_type": "code",
      "source": [
        "a=np.array([[1,2,3],[3,4,5],[5,6,7]])\n",
        "b=np.array([[3,2,1],[5,4,3],[7,6,5]])\n",
        "sqrt=np.sqrt(a)\n",
        "print(sqrt)"
      ],
      "metadata": {
        "colab": {
          "base_uri": "https://localhost:8080/"
        },
        "id": "CvD5ZXh7b0UK",
        "outputId": "662f528e-d46a-4d8e-9407-850733e74de5"
      },
      "execution_count": null,
      "outputs": [
        {
          "output_type": "stream",
          "name": "stdout",
          "text": [
            "[[1.         1.41421356 1.73205081]\n",
            " [1.73205081 2.         2.23606798]\n",
            " [2.23606798 2.44948974 2.64575131]]\n"
          ]
        }
      ]
    },
    {
      "cell_type": "code",
      "source": [
        "a=np.array([[[1,2,3],[3,4,5],[5,6,7]]])\n",
        "b=np.array([[[3,2,1],[5,4,3],[7,6,5]]])\n",
        "c=np.array([[[3,4,6],[6,7,8],[8,9,10]]])\n",
        "sum=np.add(a,b,c)\n",
        "print(sum)"
      ],
      "metadata": {
        "colab": {
          "base_uri": "https://localhost:8080/"
        },
        "id": "LjjeLeiVcujw",
        "outputId": "59bb8249-47fc-44cb-8983-06cb7b96a2bf"
      },
      "execution_count": null,
      "outputs": [
        {
          "output_type": "stream",
          "name": "stdout",
          "text": [
            "[[[ 4  4  4]\n",
            "  [ 8  8  8]\n",
            "  [12 12 12]]]\n"
          ]
        }
      ]
    },
    {
      "cell_type": "code",
      "source": [
        "a=np.array([[[1,2,3],[3,4,5],[5,6,7]]])\n",
        "b=np.array([[[3,2,1],[5,4,3],[7,6,5]]])\n",
        "c=np.array([[[2,3,5],[5,6,7],[7,4,3]]])\n",
        "subtract=np.subtract(a,b,c)\n",
        "print(subtract)"
      ],
      "metadata": {
        "colab": {
          "base_uri": "https://localhost:8080/"
        },
        "id": "h-ZUSd54dLYa",
        "outputId": "8ac501e7-c902-4a0b-8b61-b9b9f6ebe755"
      },
      "execution_count": null,
      "outputs": [
        {
          "output_type": "stream",
          "name": "stdout",
          "text": [
            "[[[-2  0  2]\n",
            "  [-2  0  2]\n",
            "  [-2  0  2]]]\n"
          ]
        }
      ]
    },
    {
      "cell_type": "code",
      "source": [
        "a=np.array([[[1,2,3],[3,4,5],[5,6,7]]])\n",
        "b=np.array([[[3,2,1],[5,4,3],[7,6,5]]])\n",
        "c=np.array([[[2,3,5],[5,6,7],[7,4,3]]])\n",
        "multiply=np.multiply(a,b,c)\n",
        "print(multiply)"
      ],
      "metadata": {
        "colab": {
          "base_uri": "https://localhost:8080/"
        },
        "id": "6C_9CCI7d0YU",
        "outputId": "6f7d7404-83db-49a0-8d00-ffcf74d1e0a1"
      },
      "execution_count": null,
      "outputs": [
        {
          "output_type": "stream",
          "name": "stdout",
          "text": [
            "[[[ 3  4  3]\n",
            "  [15 16 15]\n",
            "  [35 36 35]]]\n"
          ]
        }
      ]
    },
    {
      "cell_type": "code",
      "source": [
        "a=np.array([[[1,2,3],[3,4,5],[5,6,7]]])\n",
        "b=np.array([[[3,2,1],[5,4,3],[7,6,5]]])\n",
        "divide=np.divide(a,b)\n",
        "print(divide)"
      ],
      "metadata": {
        "colab": {
          "base_uri": "https://localhost:8080/"
        },
        "id": "0japAyJTeRbb",
        "outputId": "5aea883d-6a6c-4f08-afc4-29c09bc975a3"
      },
      "execution_count": null,
      "outputs": [
        {
          "output_type": "stream",
          "name": "stdout",
          "text": [
            "[[[0.33333333 1.         3.        ]\n",
            "  [0.6        1.         1.66666667]\n",
            "  [0.71428571 1.         1.4       ]]]\n"
          ]
        }
      ]
    },
    {
      "cell_type": "code",
      "source": [
        "a=np.array([[[1,2,3],[3,4,5],[5,6,7]]])\n",
        "b=np.array([[[3,2,1],[5,4,3],[7,6,5]]])\n",
        "np.floor_divide=np.floor_divide(a,b)\n",
        "print(np.floor_divide)"
      ],
      "metadata": {
        "colab": {
          "base_uri": "https://localhost:8080/"
        },
        "id": "sg6VAbG5f8rQ",
        "outputId": "d2f372dc-2271-4af8-ab39-0e22740ce8f8"
      },
      "execution_count": null,
      "outputs": [
        {
          "output_type": "stream",
          "name": "stdout",
          "text": [
            "[[[0 1 3]\n",
            "  [0 1 1]\n",
            "  [0 1 1]]]\n"
          ]
        }
      ]
    },
    {
      "cell_type": "code",
      "source": [
        "import numpy as np\n",
        "a=np.zeros([4,3])\n",
        "print(a)\n",
        "a=np.zeros([4,3],dtype=int)\n",
        "print(a)\n",
        "\n",
        "\n"
      ],
      "metadata": {
        "colab": {
          "base_uri": "https://localhost:8080/"
        },
        "id": "9DFVuGBKg5Nc",
        "outputId": "d73b768d-7b03-48f7-ac4f-51fbe5cda3c8"
      },
      "execution_count": null,
      "outputs": [
        {
          "output_type": "stream",
          "name": "stdout",
          "text": [
            "[[0. 0. 0.]\n",
            " [0. 0. 0.]\n",
            " [0. 0. 0.]\n",
            " [0. 0. 0.]]\n",
            "[[0 0 0]\n",
            " [0 0 0]\n",
            " [0 0 0]\n",
            " [0 0 0]]\n"
          ]
        }
      ]
    },
    {
      "cell_type": "code",
      "source": [
        "b=np.ones([3],dtype=int)\n",
        "print(\"b\",b)\n",
        "print(\"dimesion:\",b.ndim)"
      ],
      "metadata": {
        "colab": {
          "base_uri": "https://localhost:8080/"
        },
        "id": "5B1sRBryiEC_",
        "outputId": "34fa0b2b-b8bb-4a9c-ddbb-e5b30059e230"
      },
      "execution_count": null,
      "outputs": [
        {
          "output_type": "stream",
          "name": "stdout",
          "text": [
            "b [1 1 1]\n",
            "dimesion: 1\n"
          ]
        }
      ]
    },
    {
      "cell_type": "code",
      "source": [
        "c=np.zeros([3],dtype=int)\n",
        "print(\"1-d\")\n",
        "print(\"c\",c)\n",
        "print(\"dimension:\",c.ndim)"
      ],
      "metadata": {
        "colab": {
          "base_uri": "https://localhost:8080/"
        },
        "id": "uS5nc6dPilr0",
        "outputId": "b7e8403b-0ac2-45ff-99d4-6e8b6e01e1f7"
      },
      "execution_count": null,
      "outputs": [
        {
          "output_type": "stream",
          "name": "stdout",
          "text": [
            "1-d\n",
            "c [0 0 0]\n",
            "dimension: 1\n"
          ]
        }
      ]
    },
    {
      "cell_type": "code",
      "source": [
        "c=np.zeros([1,2,3],dtype=int)\n",
        "print(c)\n",
        "d=np.zeros([2,3,4],dtype=int)"
      ],
      "metadata": {
        "colab": {
          "base_uri": "https://localhost:8080/"
        },
        "id": "geOZujy3kH1q",
        "outputId": "eb5bbda2-38de-4122-d0df-db146dfe70ea"
      },
      "execution_count": null,
      "outputs": [
        {
          "output_type": "stream",
          "name": "stdout",
          "text": [
            "[[[0 0 0]\n",
            "  [0 0 0]]]\n"
          ]
        }
      ]
    },
    {
      "cell_type": "code",
      "source": [
        "a=np.identity(3,dtype=int)\n",
        "print(a)\n"
      ],
      "metadata": {
        "colab": {
          "base_uri": "https://localhost:8080/"
        },
        "id": "ernq7wwimk45",
        "outputId": "1971488e-d1b4-4750-97c8-9d25194f30cb"
      },
      "execution_count": null,
      "outputs": [
        {
          "output_type": "stream",
          "name": "stdout",
          "text": [
            "[[1 0 0]\n",
            " [0 1 0]\n",
            " [0 0 1]]\n"
          ]
        }
      ]
    },
    {
      "cell_type": "code",
      "source": [
        "b=np.eye(4,dtype=int)\n",
        "print(b)"
      ],
      "metadata": {
        "colab": {
          "base_uri": "https://localhost:8080/"
        },
        "id": "4d_pWDZXpIZu",
        "outputId": "6b550b78-d747-4f91-8890-99ed641ad07b"
      },
      "execution_count": null,
      "outputs": [
        {
          "output_type": "stream",
          "name": "stdout",
          "text": [
            "[[1 0 0 0]\n",
            " [0 1 0 0]\n",
            " [0 0 1 0]\n",
            " [0 0 0 1]]\n"
          ]
        }
      ]
    },
    {
      "cell_type": "code",
      "source": [
        "print(\"*\"*20)\n",
        "a=np.full([3,4],4)\n",
        "print(a)"
      ],
      "metadata": {
        "colab": {
          "base_uri": "https://localhost:8080/"
        },
        "id": "-eHBIdJrpM0n",
        "outputId": "ab4e15b9-0f52-4a89-e118-a48bca4bb787"
      },
      "execution_count": null,
      "outputs": [
        {
          "output_type": "stream",
          "name": "stdout",
          "text": [
            "********************\n",
            "[[4 4 4 4]\n",
            " [4 4 4 4]\n",
            " [4 4 4 4]]\n"
          ]
        }
      ]
    },
    {
      "cell_type": "code",
      "source": [
        "b=np.full([4],2)\n",
        "print(b)\n",
        "c=np.full([1,2,3],3)\n",
        "print(c)"
      ],
      "metadata": {
        "colab": {
          "base_uri": "https://localhost:8080/"
        },
        "id": "jHjwy6ILpoc5",
        "outputId": "cf20d738-242b-49ce-c9c0-d3d89c531122"
      },
      "execution_count": null,
      "outputs": [
        {
          "output_type": "stream",
          "name": "stdout",
          "text": [
            "[2 2 2 2]\n",
            "[[[3 3 3]\n",
            "  [3 3 3]]]\n"
          ]
        }
      ]
    },
    {
      "cell_type": "code",
      "source": [
        "a=np.array([[1,2,3],[4,5,6],[7,8,9]])\n",
        "b=np.array([[6,7,8],[6,9,10],[6,5,8]])\n",
        "print(a)\n",
        "print(b)\n",
        "c = np.dot(a,b)\n",
        "print(c)"
      ],
      "metadata": {
        "colab": {
          "base_uri": "https://localhost:8080/"
        },
        "id": "_s0HCnCaqBDb",
        "outputId": "3040bd91-accc-41df-f3f0-6d23acbb9a47"
      },
      "execution_count": null,
      "outputs": [
        {
          "output_type": "stream",
          "name": "stdout",
          "text": [
            "[[1 2 3]\n",
            " [4 5 6]\n",
            " [7 8 9]]\n",
            "[[ 6  7  8]\n",
            " [ 6  9 10]\n",
            " [ 6  5  8]]\n",
            "[[ 36  40  52]\n",
            " [ 90 103 130]\n",
            " [144 166 208]]\n"
          ]
        }
      ]
    },
    {
      "cell_type": "code",
      "source": [],
      "metadata": {
        "id": "crfgzpAwr3pE"
      },
      "execution_count": null,
      "outputs": []
    }
  ]
}
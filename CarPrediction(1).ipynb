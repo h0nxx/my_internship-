{
 "cells": [
  {
   "cell_type": "code",
   "execution_count": 4,
   "id": "37b11f73",
   "metadata": {},
   "outputs": [],
   "source": [
    "import os\n",
    "os.environ[\"SCIPY_ARRAY_API\"] = \"1\"\n"
   ]
  },
  {
   "cell_type": "code",
   "execution_count": 5,
   "id": "38a22987",
   "metadata": {},
   "outputs": [],
   "source": [
    "import pandas as pd \n",
    "import numpy as np \n",
    "import matplotlib.pyplot as plt \n",
    "import seaborn as sns \n",
    "from sklearn.preprocessing import LabelEncoder,StandardScaler\n",
    "from sklearn.metrics import classification_report,confusion_matrix,accuracy_score\n",
    "from sklearn.model_selection import train_test_split\n",
    "from sklearn.linear_model import LinearRegression\n",
    "from sklearn.preprocessing import StandardScaler\n",
    "from sklearn.metrics import mean_squared_error, r2_score"
   ]
  },
  {
   "cell_type": "code",
   "execution_count": 6,
   "id": "600f4ef3",
   "metadata": {},
   "outputs": [],
   "source": [
    "df = pd.read_csv(r\"C:\\Users\\hansa.AMALARSHIALFI\\Downloads\\CAR DETAILS FROM CAR DEKHO.csv\")"
   ]
  },
  {
   "cell_type": "code",
   "execution_count": 7,
   "id": "92681188",
   "metadata": {},
   "outputs": [
    {
     "name": "stdout",
     "output_type": "stream",
     "text": [
      "name             0\n",
      "year             0\n",
      "selling_price    0\n",
      "km_driven        0\n",
      "fuel             0\n",
      "seller_type      0\n",
      "transmission     0\n",
      "owner            0\n",
      "dtype: int64\n",
      "              year  selling_price      km_driven\n",
      "count  4340.000000   4.340000e+03    4340.000000\n",
      "mean   2013.090783   5.041273e+05   66215.777419\n",
      "std       4.215344   5.785487e+05   46644.102194\n",
      "min    1992.000000   2.000000e+04       1.000000\n",
      "25%    2011.000000   2.087498e+05   35000.000000\n",
      "50%    2014.000000   3.500000e+05   60000.000000\n",
      "75%    2016.000000   6.000000e+05   90000.000000\n",
      "max    2020.000000   8.900000e+06  806599.000000\n"
     ]
    }
   ],
   "source": [
    "\n",
    "print(df.isnull().sum())\n",
    "print(df.describe())"
   ]
  },
  {
   "cell_type": "code",
   "execution_count": 8,
   "id": "f720292e",
   "metadata": {},
   "outputs": [
    {
     "name": "stdout",
     "output_type": "stream",
     "text": [
      "                       name  year  selling_price  km_driven    fuel  \\\n",
      "0             Maruti 800 AC  2007          60000      70000  Petrol   \n",
      "1  Maruti Wagon R LXI Minor  2007         135000      50000  Petrol   \n",
      "2      Hyundai Verna 1.6 SX  2012         600000     100000  Diesel   \n",
      "3    Datsun RediGO T Option  2017         250000      46000  Petrol   \n",
      "4     Honda Amaze VX i-DTEC  2014         450000     141000  Diesel   \n",
      "\n",
      "  seller_type transmission         owner  \n",
      "0  Individual       Manual   First Owner  \n",
      "1  Individual       Manual   First Owner  \n",
      "2  Individual       Manual   First Owner  \n",
      "3  Individual       Manual   First Owner  \n",
      "4  Individual       Manual  Second Owner  \n"
     ]
    }
   ],
   "source": [
    "print(df.head())"
   ]
  },
  {
   "cell_type": "code",
   "execution_count": 9,
   "id": "6538cf8c",
   "metadata": {},
   "outputs": [
    {
     "data": {
      "text/html": [
       "<div>\n",
       "<style scoped>\n",
       "    .dataframe tbody tr th:only-of-type {\n",
       "        vertical-align: middle;\n",
       "    }\n",
       "\n",
       "    .dataframe tbody tr th {\n",
       "        vertical-align: top;\n",
       "    }\n",
       "\n",
       "    .dataframe thead th {\n",
       "        text-align: right;\n",
       "    }\n",
       "</style>\n",
       "<table border=\"1\" class=\"dataframe\">\n",
       "  <thead>\n",
       "    <tr style=\"text-align: right;\">\n",
       "      <th></th>\n",
       "      <th>name</th>\n",
       "      <th>year</th>\n",
       "      <th>selling_price</th>\n",
       "      <th>km_driven</th>\n",
       "      <th>fuel</th>\n",
       "      <th>seller_type</th>\n",
       "      <th>transmission</th>\n",
       "      <th>owner</th>\n",
       "    </tr>\n",
       "  </thead>\n",
       "  <tbody>\n",
       "    <tr>\n",
       "      <th>0</th>\n",
       "      <td>Maruti 800 AC</td>\n",
       "      <td>2007</td>\n",
       "      <td>60000</td>\n",
       "      <td>70000</td>\n",
       "      <td>Petrol</td>\n",
       "      <td>Individual</td>\n",
       "      <td>Manual</td>\n",
       "      <td>First Owner</td>\n",
       "    </tr>\n",
       "    <tr>\n",
       "      <th>1</th>\n",
       "      <td>Maruti Wagon R LXI Minor</td>\n",
       "      <td>2007</td>\n",
       "      <td>135000</td>\n",
       "      <td>50000</td>\n",
       "      <td>Petrol</td>\n",
       "      <td>Individual</td>\n",
       "      <td>Manual</td>\n",
       "      <td>First Owner</td>\n",
       "    </tr>\n",
       "    <tr>\n",
       "      <th>2</th>\n",
       "      <td>Hyundai Verna 1.6 SX</td>\n",
       "      <td>2012</td>\n",
       "      <td>600000</td>\n",
       "      <td>100000</td>\n",
       "      <td>Diesel</td>\n",
       "      <td>Individual</td>\n",
       "      <td>Manual</td>\n",
       "      <td>First Owner</td>\n",
       "    </tr>\n",
       "    <tr>\n",
       "      <th>3</th>\n",
       "      <td>Datsun RediGO T Option</td>\n",
       "      <td>2017</td>\n",
       "      <td>250000</td>\n",
       "      <td>46000</td>\n",
       "      <td>Petrol</td>\n",
       "      <td>Individual</td>\n",
       "      <td>Manual</td>\n",
       "      <td>First Owner</td>\n",
       "    </tr>\n",
       "    <tr>\n",
       "      <th>4</th>\n",
       "      <td>Honda Amaze VX i-DTEC</td>\n",
       "      <td>2014</td>\n",
       "      <td>450000</td>\n",
       "      <td>141000</td>\n",
       "      <td>Diesel</td>\n",
       "      <td>Individual</td>\n",
       "      <td>Manual</td>\n",
       "      <td>Second Owner</td>\n",
       "    </tr>\n",
       "  </tbody>\n",
       "</table>\n",
       "</div>"
      ],
      "text/plain": [
       "                       name  year  selling_price  km_driven    fuel  \\\n",
       "0             Maruti 800 AC  2007          60000      70000  Petrol   \n",
       "1  Maruti Wagon R LXI Minor  2007         135000      50000  Petrol   \n",
       "2      Hyundai Verna 1.6 SX  2012         600000     100000  Diesel   \n",
       "3    Datsun RediGO T Option  2017         250000      46000  Petrol   \n",
       "4     Honda Amaze VX i-DTEC  2014         450000     141000  Diesel   \n",
       "\n",
       "  seller_type transmission         owner  \n",
       "0  Individual       Manual   First Owner  \n",
       "1  Individual       Manual   First Owner  \n",
       "2  Individual       Manual   First Owner  \n",
       "3  Individual       Manual   First Owner  \n",
       "4  Individual       Manual  Second Owner  "
      ]
     },
     "execution_count": 9,
     "metadata": {},
     "output_type": "execute_result"
    }
   ],
   "source": [
    "df.head()"
   ]
  },
  {
   "cell_type": "code",
   "execution_count": 10,
   "id": "c60158f5",
   "metadata": {},
   "outputs": [
    {
     "data": {
      "text/html": [
       "<div>\n",
       "<style scoped>\n",
       "    .dataframe tbody tr th:only-of-type {\n",
       "        vertical-align: middle;\n",
       "    }\n",
       "\n",
       "    .dataframe tbody tr th {\n",
       "        vertical-align: top;\n",
       "    }\n",
       "\n",
       "    .dataframe thead th {\n",
       "        text-align: right;\n",
       "    }\n",
       "</style>\n",
       "<table border=\"1\" class=\"dataframe\">\n",
       "  <thead>\n",
       "    <tr style=\"text-align: right;\">\n",
       "      <th></th>\n",
       "      <th>name</th>\n",
       "      <th>year</th>\n",
       "      <th>selling_price</th>\n",
       "      <th>km_driven</th>\n",
       "      <th>fuel</th>\n",
       "      <th>seller_type</th>\n",
       "      <th>transmission</th>\n",
       "      <th>owner</th>\n",
       "    </tr>\n",
       "  </thead>\n",
       "  <tbody>\n",
       "    <tr>\n",
       "      <th>0</th>\n",
       "      <td>Maruti 800 AC</td>\n",
       "      <td>2007</td>\n",
       "      <td>60000</td>\n",
       "      <td>70000</td>\n",
       "      <td>Petrol</td>\n",
       "      <td>Individual</td>\n",
       "      <td>Manual</td>\n",
       "      <td>First Owner</td>\n",
       "    </tr>\n",
       "    <tr>\n",
       "      <th>1</th>\n",
       "      <td>Maruti Wagon R LXI Minor</td>\n",
       "      <td>2007</td>\n",
       "      <td>135000</td>\n",
       "      <td>50000</td>\n",
       "      <td>Petrol</td>\n",
       "      <td>Individual</td>\n",
       "      <td>Manual</td>\n",
       "      <td>First Owner</td>\n",
       "    </tr>\n",
       "    <tr>\n",
       "      <th>2</th>\n",
       "      <td>Hyundai Verna 1.6 SX</td>\n",
       "      <td>2012</td>\n",
       "      <td>600000</td>\n",
       "      <td>100000</td>\n",
       "      <td>Diesel</td>\n",
       "      <td>Individual</td>\n",
       "      <td>Manual</td>\n",
       "      <td>First Owner</td>\n",
       "    </tr>\n",
       "    <tr>\n",
       "      <th>3</th>\n",
       "      <td>Datsun RediGO T Option</td>\n",
       "      <td>2017</td>\n",
       "      <td>250000</td>\n",
       "      <td>46000</td>\n",
       "      <td>Petrol</td>\n",
       "      <td>Individual</td>\n",
       "      <td>Manual</td>\n",
       "      <td>First Owner</td>\n",
       "    </tr>\n",
       "    <tr>\n",
       "      <th>4</th>\n",
       "      <td>Honda Amaze VX i-DTEC</td>\n",
       "      <td>2014</td>\n",
       "      <td>450000</td>\n",
       "      <td>141000</td>\n",
       "      <td>Diesel</td>\n",
       "      <td>Individual</td>\n",
       "      <td>Manual</td>\n",
       "      <td>Second Owner</td>\n",
       "    </tr>\n",
       "    <tr>\n",
       "      <th>...</th>\n",
       "      <td>...</td>\n",
       "      <td>...</td>\n",
       "      <td>...</td>\n",
       "      <td>...</td>\n",
       "      <td>...</td>\n",
       "      <td>...</td>\n",
       "      <td>...</td>\n",
       "      <td>...</td>\n",
       "    </tr>\n",
       "    <tr>\n",
       "      <th>4335</th>\n",
       "      <td>Hyundai i20 Magna 1.4 CRDi (Diesel)</td>\n",
       "      <td>2014</td>\n",
       "      <td>409999</td>\n",
       "      <td>80000</td>\n",
       "      <td>Diesel</td>\n",
       "      <td>Individual</td>\n",
       "      <td>Manual</td>\n",
       "      <td>Second Owner</td>\n",
       "    </tr>\n",
       "    <tr>\n",
       "      <th>4336</th>\n",
       "      <td>Hyundai i20 Magna 1.4 CRDi</td>\n",
       "      <td>2014</td>\n",
       "      <td>409999</td>\n",
       "      <td>80000</td>\n",
       "      <td>Diesel</td>\n",
       "      <td>Individual</td>\n",
       "      <td>Manual</td>\n",
       "      <td>Second Owner</td>\n",
       "    </tr>\n",
       "    <tr>\n",
       "      <th>4337</th>\n",
       "      <td>Maruti 800 AC BSIII</td>\n",
       "      <td>2009</td>\n",
       "      <td>110000</td>\n",
       "      <td>83000</td>\n",
       "      <td>Petrol</td>\n",
       "      <td>Individual</td>\n",
       "      <td>Manual</td>\n",
       "      <td>Second Owner</td>\n",
       "    </tr>\n",
       "    <tr>\n",
       "      <th>4338</th>\n",
       "      <td>Hyundai Creta 1.6 CRDi SX Option</td>\n",
       "      <td>2016</td>\n",
       "      <td>865000</td>\n",
       "      <td>90000</td>\n",
       "      <td>Diesel</td>\n",
       "      <td>Individual</td>\n",
       "      <td>Manual</td>\n",
       "      <td>First Owner</td>\n",
       "    </tr>\n",
       "    <tr>\n",
       "      <th>4339</th>\n",
       "      <td>Renault KWID RXT</td>\n",
       "      <td>2016</td>\n",
       "      <td>225000</td>\n",
       "      <td>40000</td>\n",
       "      <td>Petrol</td>\n",
       "      <td>Individual</td>\n",
       "      <td>Manual</td>\n",
       "      <td>First Owner</td>\n",
       "    </tr>\n",
       "  </tbody>\n",
       "</table>\n",
       "<p>4340 rows × 8 columns</p>\n",
       "</div>"
      ],
      "text/plain": [
       "                                     name  year  selling_price  km_driven  \\\n",
       "0                           Maruti 800 AC  2007          60000      70000   \n",
       "1                Maruti Wagon R LXI Minor  2007         135000      50000   \n",
       "2                    Hyundai Verna 1.6 SX  2012         600000     100000   \n",
       "3                  Datsun RediGO T Option  2017         250000      46000   \n",
       "4                   Honda Amaze VX i-DTEC  2014         450000     141000   \n",
       "...                                   ...   ...            ...        ...   \n",
       "4335  Hyundai i20 Magna 1.4 CRDi (Diesel)  2014         409999      80000   \n",
       "4336           Hyundai i20 Magna 1.4 CRDi  2014         409999      80000   \n",
       "4337                  Maruti 800 AC BSIII  2009         110000      83000   \n",
       "4338     Hyundai Creta 1.6 CRDi SX Option  2016         865000      90000   \n",
       "4339                     Renault KWID RXT  2016         225000      40000   \n",
       "\n",
       "        fuel seller_type transmission         owner  \n",
       "0     Petrol  Individual       Manual   First Owner  \n",
       "1     Petrol  Individual       Manual   First Owner  \n",
       "2     Diesel  Individual       Manual   First Owner  \n",
       "3     Petrol  Individual       Manual   First Owner  \n",
       "4     Diesel  Individual       Manual  Second Owner  \n",
       "...      ...         ...          ...           ...  \n",
       "4335  Diesel  Individual       Manual  Second Owner  \n",
       "4336  Diesel  Individual       Manual  Second Owner  \n",
       "4337  Petrol  Individual       Manual  Second Owner  \n",
       "4338  Diesel  Individual       Manual   First Owner  \n",
       "4339  Petrol  Individual       Manual   First Owner  \n",
       "\n",
       "[4340 rows x 8 columns]"
      ]
     },
     "execution_count": 10,
     "metadata": {},
     "output_type": "execute_result"
    }
   ],
   "source": [
    "df"
   ]
  },
  {
   "cell_type": "code",
   "execution_count": 11,
   "id": "24068fc0",
   "metadata": {},
   "outputs": [],
   "source": [
    "df.drop('name',axis=1,inplace=True)"
   ]
  },
  {
   "cell_type": "code",
   "execution_count": 12,
   "id": "7bf688b4",
   "metadata": {},
   "outputs": [
    {
     "data": {
      "text/html": [
       "<div>\n",
       "<style scoped>\n",
       "    .dataframe tbody tr th:only-of-type {\n",
       "        vertical-align: middle;\n",
       "    }\n",
       "\n",
       "    .dataframe tbody tr th {\n",
       "        vertical-align: top;\n",
       "    }\n",
       "\n",
       "    .dataframe thead th {\n",
       "        text-align: right;\n",
       "    }\n",
       "</style>\n",
       "<table border=\"1\" class=\"dataframe\">\n",
       "  <thead>\n",
       "    <tr style=\"text-align: right;\">\n",
       "      <th></th>\n",
       "      <th>year</th>\n",
       "      <th>selling_price</th>\n",
       "      <th>km_driven</th>\n",
       "      <th>fuel</th>\n",
       "      <th>seller_type</th>\n",
       "      <th>transmission</th>\n",
       "      <th>owner</th>\n",
       "    </tr>\n",
       "  </thead>\n",
       "  <tbody>\n",
       "    <tr>\n",
       "      <th>0</th>\n",
       "      <td>2007</td>\n",
       "      <td>60000</td>\n",
       "      <td>70000</td>\n",
       "      <td>Petrol</td>\n",
       "      <td>Individual</td>\n",
       "      <td>Manual</td>\n",
       "      <td>First Owner</td>\n",
       "    </tr>\n",
       "    <tr>\n",
       "      <th>1</th>\n",
       "      <td>2007</td>\n",
       "      <td>135000</td>\n",
       "      <td>50000</td>\n",
       "      <td>Petrol</td>\n",
       "      <td>Individual</td>\n",
       "      <td>Manual</td>\n",
       "      <td>First Owner</td>\n",
       "    </tr>\n",
       "    <tr>\n",
       "      <th>2</th>\n",
       "      <td>2012</td>\n",
       "      <td>600000</td>\n",
       "      <td>100000</td>\n",
       "      <td>Diesel</td>\n",
       "      <td>Individual</td>\n",
       "      <td>Manual</td>\n",
       "      <td>First Owner</td>\n",
       "    </tr>\n",
       "    <tr>\n",
       "      <th>3</th>\n",
       "      <td>2017</td>\n",
       "      <td>250000</td>\n",
       "      <td>46000</td>\n",
       "      <td>Petrol</td>\n",
       "      <td>Individual</td>\n",
       "      <td>Manual</td>\n",
       "      <td>First Owner</td>\n",
       "    </tr>\n",
       "    <tr>\n",
       "      <th>4</th>\n",
       "      <td>2014</td>\n",
       "      <td>450000</td>\n",
       "      <td>141000</td>\n",
       "      <td>Diesel</td>\n",
       "      <td>Individual</td>\n",
       "      <td>Manual</td>\n",
       "      <td>Second Owner</td>\n",
       "    </tr>\n",
       "    <tr>\n",
       "      <th>...</th>\n",
       "      <td>...</td>\n",
       "      <td>...</td>\n",
       "      <td>...</td>\n",
       "      <td>...</td>\n",
       "      <td>...</td>\n",
       "      <td>...</td>\n",
       "      <td>...</td>\n",
       "    </tr>\n",
       "    <tr>\n",
       "      <th>4335</th>\n",
       "      <td>2014</td>\n",
       "      <td>409999</td>\n",
       "      <td>80000</td>\n",
       "      <td>Diesel</td>\n",
       "      <td>Individual</td>\n",
       "      <td>Manual</td>\n",
       "      <td>Second Owner</td>\n",
       "    </tr>\n",
       "    <tr>\n",
       "      <th>4336</th>\n",
       "      <td>2014</td>\n",
       "      <td>409999</td>\n",
       "      <td>80000</td>\n",
       "      <td>Diesel</td>\n",
       "      <td>Individual</td>\n",
       "      <td>Manual</td>\n",
       "      <td>Second Owner</td>\n",
       "    </tr>\n",
       "    <tr>\n",
       "      <th>4337</th>\n",
       "      <td>2009</td>\n",
       "      <td>110000</td>\n",
       "      <td>83000</td>\n",
       "      <td>Petrol</td>\n",
       "      <td>Individual</td>\n",
       "      <td>Manual</td>\n",
       "      <td>Second Owner</td>\n",
       "    </tr>\n",
       "    <tr>\n",
       "      <th>4338</th>\n",
       "      <td>2016</td>\n",
       "      <td>865000</td>\n",
       "      <td>90000</td>\n",
       "      <td>Diesel</td>\n",
       "      <td>Individual</td>\n",
       "      <td>Manual</td>\n",
       "      <td>First Owner</td>\n",
       "    </tr>\n",
       "    <tr>\n",
       "      <th>4339</th>\n",
       "      <td>2016</td>\n",
       "      <td>225000</td>\n",
       "      <td>40000</td>\n",
       "      <td>Petrol</td>\n",
       "      <td>Individual</td>\n",
       "      <td>Manual</td>\n",
       "      <td>First Owner</td>\n",
       "    </tr>\n",
       "  </tbody>\n",
       "</table>\n",
       "<p>4340 rows × 7 columns</p>\n",
       "</div>"
      ],
      "text/plain": [
       "      year  selling_price  km_driven    fuel seller_type transmission  \\\n",
       "0     2007          60000      70000  Petrol  Individual       Manual   \n",
       "1     2007         135000      50000  Petrol  Individual       Manual   \n",
       "2     2012         600000     100000  Diesel  Individual       Manual   \n",
       "3     2017         250000      46000  Petrol  Individual       Manual   \n",
       "4     2014         450000     141000  Diesel  Individual       Manual   \n",
       "...    ...            ...        ...     ...         ...          ...   \n",
       "4335  2014         409999      80000  Diesel  Individual       Manual   \n",
       "4336  2014         409999      80000  Diesel  Individual       Manual   \n",
       "4337  2009         110000      83000  Petrol  Individual       Manual   \n",
       "4338  2016         865000      90000  Diesel  Individual       Manual   \n",
       "4339  2016         225000      40000  Petrol  Individual       Manual   \n",
       "\n",
       "             owner  \n",
       "0      First Owner  \n",
       "1      First Owner  \n",
       "2      First Owner  \n",
       "3      First Owner  \n",
       "4     Second Owner  \n",
       "...            ...  \n",
       "4335  Second Owner  \n",
       "4336  Second Owner  \n",
       "4337  Second Owner  \n",
       "4338   First Owner  \n",
       "4339   First Owner  \n",
       "\n",
       "[4340 rows x 7 columns]"
      ]
     },
     "execution_count": 12,
     "metadata": {},
     "output_type": "execute_result"
    }
   ],
   "source": [
    "df"
   ]
  },
  {
   "cell_type": "code",
   "execution_count": 13,
   "id": "e8bc683e",
   "metadata": {},
   "outputs": [
    {
     "name": "stdout",
     "output_type": "stream",
     "text": [
      "Index(['year', 'selling_price', 'km_driven', 'fuel', 'seller_type',\n",
      "       'transmission', 'owner'],\n",
      "      dtype='object')\n"
     ]
    }
   ],
   "source": [
    "print(df.columns)\n"
   ]
  },
  {
   "cell_type": "code",
   "execution_count": 14,
   "id": "435b4972",
   "metadata": {},
   "outputs": [
    {
     "name": "stdout",
     "output_type": "stream",
     "text": [
      "      Actual    predicted\n",
      "3978    2010  2012.091403\n",
      "1448    2019  2012.345716\n",
      "2664    2008  2011.956767\n",
      "17      2014  2012.944100\n",
      "1634    2016  2013.781837\n",
      "...      ...          ...\n",
      "3468    2007  2011.986686\n",
      "3164    2015  2012.644908\n",
      "416     2011  2012.046525\n",
      "1616    2017  2013.542484\n",
      "2480    2019  2013.318090\n",
      "\n",
      "[868 rows x 2 columns]\n"
     ]
    }
   ],
   "source": [
    "x = df[['selling_price']]\n",
    "y = df['year']\n",
    "\n",
    "\n",
    "x_train, x_test, y_train, y_test = train_test_split(x, y, test_size=0.2, random_state=42)\n",
    "\n",
    "\n",
    "model = LinearRegression()\n",
    "model.fit(x_train, y_train)\n",
    "\n",
    "\n",
    "y_pred = model.predict(x_test)\n",
    "\n",
    "df_pred = pd.DataFrame({'Actual': y_test, 'predicted': y_pred})\n",
    "print(df_pred)"
   ]
  },
  {
   "cell_type": "code",
   "execution_count": 15,
   "id": "0dc2e1c0",
   "metadata": {},
   "outputs": [],
   "source": [
    "# Load your dataset\n",
    "df = pd.read_csv(r\"C:\\Users\\hansa.AMALARSHIALFI\\Downloads\\CAR DETAILS FROM CAR DEKHO.csv\")"
   ]
  },
  {
   "cell_type": "code",
   "execution_count": 16,
   "id": "8fd623b7",
   "metadata": {},
   "outputs": [],
   "source": [
    "# Split features and target\n",
    "x = df.drop('selling_price', axis=1)\n",
    "y = df['selling_price']\n"
   ]
  },
  {
   "cell_type": "code",
   "execution_count": 17,
   "id": "ffe6770d",
   "metadata": {},
   "outputs": [],
   "source": [
    "# Encode and scale features\n",
    "x_encoded = pd.get_dummies(x, drop_first=True)\n",
    "scaler = StandardScaler()\n",
    "x_scaled = scaler.fit_transform(x_encoded)"
   ]
  },
  {
   "cell_type": "code",
   "execution_count": 18,
   "id": "1d6e167b",
   "metadata": {},
   "outputs": [],
   "source": [
    "# Train-test split\n",
    "x_train, x_test, y_train, y_test = train_test_split(x_scaled, y, test_size=0.2, random_state=42)"
   ]
  },
  {
   "cell_type": "code",
   "execution_count": 19,
   "id": "5650b9cf",
   "metadata": {},
   "outputs": [
    {
     "data": {
      "text/html": [
       "<style>#sk-container-id-1 {color: black;}#sk-container-id-1 pre{padding: 0;}#sk-container-id-1 div.sk-toggleable {background-color: white;}#sk-container-id-1 label.sk-toggleable__label {cursor: pointer;display: block;width: 100%;margin-bottom: 0;padding: 0.3em;box-sizing: border-box;text-align: center;}#sk-container-id-1 label.sk-toggleable__label-arrow:before {content: \"▸\";float: left;margin-right: 0.25em;color: #696969;}#sk-container-id-1 label.sk-toggleable__label-arrow:hover:before {color: black;}#sk-container-id-1 div.sk-estimator:hover label.sk-toggleable__label-arrow:before {color: black;}#sk-container-id-1 div.sk-toggleable__content {max-height: 0;max-width: 0;overflow: hidden;text-align: left;background-color: #f0f8ff;}#sk-container-id-1 div.sk-toggleable__content pre {margin: 0.2em;color: black;border-radius: 0.25em;background-color: #f0f8ff;}#sk-container-id-1 input.sk-toggleable__control:checked~div.sk-toggleable__content {max-height: 200px;max-width: 100%;overflow: auto;}#sk-container-id-1 input.sk-toggleable__control:checked~label.sk-toggleable__label-arrow:before {content: \"▾\";}#sk-container-id-1 div.sk-estimator input.sk-toggleable__control:checked~label.sk-toggleable__label {background-color: #d4ebff;}#sk-container-id-1 div.sk-label input.sk-toggleable__control:checked~label.sk-toggleable__label {background-color: #d4ebff;}#sk-container-id-1 input.sk-hidden--visually {border: 0;clip: rect(1px 1px 1px 1px);clip: rect(1px, 1px, 1px, 1px);height: 1px;margin: -1px;overflow: hidden;padding: 0;position: absolute;width: 1px;}#sk-container-id-1 div.sk-estimator {font-family: monospace;background-color: #f0f8ff;border: 1px dotted black;border-radius: 0.25em;box-sizing: border-box;margin-bottom: 0.5em;}#sk-container-id-1 div.sk-estimator:hover {background-color: #d4ebff;}#sk-container-id-1 div.sk-parallel-item::after {content: \"\";width: 100%;border-bottom: 1px solid gray;flex-grow: 1;}#sk-container-id-1 div.sk-label:hover label.sk-toggleable__label {background-color: #d4ebff;}#sk-container-id-1 div.sk-serial::before {content: \"\";position: absolute;border-left: 1px solid gray;box-sizing: border-box;top: 0;bottom: 0;left: 50%;z-index: 0;}#sk-container-id-1 div.sk-serial {display: flex;flex-direction: column;align-items: center;background-color: white;padding-right: 0.2em;padding-left: 0.2em;position: relative;}#sk-container-id-1 div.sk-item {position: relative;z-index: 1;}#sk-container-id-1 div.sk-parallel {display: flex;align-items: stretch;justify-content: center;background-color: white;position: relative;}#sk-container-id-1 div.sk-item::before, #sk-container-id-1 div.sk-parallel-item::before {content: \"\";position: absolute;border-left: 1px solid gray;box-sizing: border-box;top: 0;bottom: 0;left: 50%;z-index: -1;}#sk-container-id-1 div.sk-parallel-item {display: flex;flex-direction: column;z-index: 1;position: relative;background-color: white;}#sk-container-id-1 div.sk-parallel-item:first-child::after {align-self: flex-end;width: 50%;}#sk-container-id-1 div.sk-parallel-item:last-child::after {align-self: flex-start;width: 50%;}#sk-container-id-1 div.sk-parallel-item:only-child::after {width: 0;}#sk-container-id-1 div.sk-dashed-wrapped {border: 1px dashed gray;margin: 0 0.4em 0.5em 0.4em;box-sizing: border-box;padding-bottom: 0.4em;background-color: white;}#sk-container-id-1 div.sk-label label {font-family: monospace;font-weight: bold;display: inline-block;line-height: 1.2em;}#sk-container-id-1 div.sk-label-container {text-align: center;}#sk-container-id-1 div.sk-container {/* jupyter's `normalize.less` sets `[hidden] { display: none; }` but bootstrap.min.css set `[hidden] { display: none !important; }` so we also need the `!important` here to be able to override the default hidden behavior on the sphinx rendered scikit-learn.org. See: https://github.com/scikit-learn/scikit-learn/issues/21755 */display: inline-block !important;position: relative;}#sk-container-id-1 div.sk-text-repr-fallback {display: none;}</style><div id=\"sk-container-id-1\" class=\"sk-top-container\"><div class=\"sk-text-repr-fallback\"><pre>LinearRegression()</pre><b>In a Jupyter environment, please rerun this cell to show the HTML representation or trust the notebook. <br />On GitHub, the HTML representation is unable to render, please try loading this page with nbviewer.org.</b></div><div class=\"sk-container\" hidden><div class=\"sk-item\"><div class=\"sk-estimator sk-toggleable\"><input class=\"sk-toggleable__control sk-hidden--visually\" id=\"sk-estimator-id-1\" type=\"checkbox\" checked><label for=\"sk-estimator-id-1\" class=\"sk-toggleable__label sk-toggleable__label-arrow\">LinearRegression</label><div class=\"sk-toggleable__content\"><pre>LinearRegression()</pre></div></div></div></div></div>"
      ],
      "text/plain": [
       "LinearRegression()"
      ]
     },
     "execution_count": 19,
     "metadata": {},
     "output_type": "execute_result"
    }
   ],
   "source": [
    "model = LinearRegression()\n",
    "model.fit(x_train,y_train)\n"
   ]
  },
  {
   "cell_type": "code",
   "execution_count": 20,
   "id": "2ccd78ef",
   "metadata": {},
   "outputs": [],
   "source": [
    "y_pred = model.predict(x_test)"
   ]
  },
  {
   "cell_type": "code",
   "execution_count": 21,
   "id": "8d98a8c1",
   "metadata": {},
   "outputs": [
    {
     "name": "stdout",
     "output_type": "stream",
     "text": [
      "MAE: 2.0150770987323195e+19\n",
      "MSE: 2.9218500062390136e+39\n",
      "R² Score: -9.57449050406385e+27\n"
     ]
    }
   ],
   "source": [
    "from sklearn.metrics import mean_squared_error, mean_absolute_error, r2_score\n",
    "\n",
    "print(\"MAE:\", mean_absolute_error(y_test, y_pred))\n",
    "print(\"MSE:\", mean_squared_error(y_test, y_pred))\n",
    "print(\"R² Score:\", r2_score(y_test, y_pred))\n"
   ]
  },
  {
   "cell_type": "code",
   "execution_count": 22,
   "id": "47c65f3b",
   "metadata": {},
   "outputs": [
    {
     "name": "stdout",
     "output_type": "stream",
     "text": [
      "[[0 0 0 ... 0 0 0]\n",
      " [0 0 0 ... 0 0 0]\n",
      " [0 0 0 ... 0 0 0]\n",
      " ...\n",
      " [0 0 0 ... 0 0 0]\n",
      " [0 0 0 ... 0 1 0]\n",
      " [0 0 0 ... 0 0 0]]\n"
     ]
    },
    {
     "name": "stderr",
     "output_type": "stream",
     "text": [
      "C:\\Users\\hansa.AMALARSHIALFI\\AppData\\Roaming\\Python\\Python312\\site-packages\\sklearn\\linear_model\\_logistic.py:460: ConvergenceWarning: lbfgs failed to converge (status=1):\n",
      "STOP: TOTAL NO. of ITERATIONS REACHED LIMIT.\n",
      "\n",
      "Increase the number of iterations (max_iter) or scale the data as shown in:\n",
      "    https://scikit-learn.org/stable/modules/preprocessing.html\n",
      "Please also refer to the documentation for alternative solver options:\n",
      "    https://scikit-learn.org/stable/modules/linear_model.html#logistic-regression\n",
      "  n_iter_i = _check_optimize_result(\n"
     ]
    }
   ],
   "source": [
    "from sklearn.linear_model import LogisticRegression\n",
    "\n",
    "model = LogisticRegression()\n",
    "model.fit(x_train, y_train)\n",
    "\n",
    "y_pred = model.predict(x_test)\n",
    "\n",
    "from sklearn.metrics import confusion_matrix\n",
    "cm = confusion_matrix(y_test, y_pred)\n",
    "print(cm)\n"
   ]
  },
  {
   "cell_type": "code",
   "execution_count": 23,
   "id": "9cf39eb8",
   "metadata": {},
   "outputs": [
    {
     "name": "stdout",
     "output_type": "stream",
     "text": [
      "confusion\n"
     ]
    }
   ],
   "source": [
    "cm = confusion_matrix(y_test,y_pred)\n",
    "print(\"confusion\")"
   ]
  },
  {
   "cell_type": "code",
   "execution_count": 24,
   "id": "a7ef2ae3",
   "metadata": {},
   "outputs": [
    {
     "name": "stdout",
     "output_type": "stream",
     "text": [
      "Classification Report:\n",
      "              precision    recall  f1-score   support\n",
      "\n",
      "       20000       0.00      0.00      0.00         1\n",
      "       35000       0.00      0.00      0.00         1\n",
      "       40000       0.00      0.00      0.00         1\n",
      "       43000       0.00      0.00      0.00         1\n",
      "       45000       0.50      1.00      0.67         1\n",
      "       50000       0.00      0.00      0.00         1\n",
      "       51111       0.00      0.00      0.00         1\n",
      "       55000       0.00      0.00      0.00         1\n",
      "       57000       0.00      0.00      0.00         1\n",
      "       58000       0.00      0.00      0.00         1\n",
      "       60000       0.00      0.00      0.00         5\n",
      "       65000       1.00      0.25      0.40         4\n",
      "       68000       0.33      1.00      0.50         1\n",
      "       69000       0.00      0.00      0.00         1\n",
      "       70000       0.00      0.00      0.00         4\n",
      "       73000       0.00      0.00      0.00         0\n",
      "       75000       0.30      0.25      0.27        12\n",
      "       78000       0.00      0.00      0.00         1\n",
      "       79000       1.00      0.50      0.67         2\n",
      "       80000       0.31      0.36      0.33        11\n",
      "       82000       0.00      0.00      0.00         1\n",
      "       85000       0.00      0.00      0.00         3\n",
      "       88000       0.00      0.00      0.00         1\n",
      "       90000       0.50      0.20      0.29         5\n",
      "       92800       0.33      1.00      0.50         1\n",
      "       95000       0.20      0.17      0.18         6\n",
      "       97000       1.00      1.00      1.00         1\n",
      "       99000       0.00      0.00      0.00         0\n",
      "      100000       0.18      0.22      0.20         9\n",
      "      105000       0.00      0.00      0.00         2\n",
      "      110000       0.29      0.17      0.21        12\n",
      "      114999       0.00      0.00      0.00         0\n",
      "      120000       0.04      0.21      0.06        14\n",
      "      125000       0.14      0.33      0.20         3\n",
      "      130000       0.00      0.00      0.00         3\n",
      "      135000       1.00      0.14      0.25         7\n",
      "      138000       0.00      0.00      0.00         1\n",
      "      140000       0.25      0.25      0.25         8\n",
      "      142000       0.00      0.00      0.00         1\n",
      "      145000       0.25      0.50      0.33         2\n",
      "      147000       0.00      0.00      0.00         1\n",
      "      148000       0.00      0.00      0.00         0\n",
      "      150000       0.09      0.14      0.11        21\n",
      "      155000       0.00      0.00      0.00         3\n",
      "      160000       0.25      0.10      0.14        10\n",
      "      163000       0.00      0.00      0.00         1\n",
      "      165000       0.00      0.00      0.00         4\n",
      "      170000       0.00      0.00      0.00         5\n",
      "      175000       1.00      0.20      0.33        10\n",
      "      180000       0.33      0.18      0.24        11\n",
      "      183000       0.00      0.00      0.00         1\n",
      "      185000       0.00      0.00      0.00         1\n",
      "      190000       0.33      0.17      0.22         6\n",
      "      195000       0.00      0.00      0.00         4\n",
      "      198000       0.00      0.00      0.00         1\n",
      "      199000       0.00      0.00      0.00         2\n",
      "      200000       0.30      0.23      0.26        13\n",
      "      210000       0.22      0.18      0.20        11\n",
      "      215000       1.00      0.50      0.67         2\n",
      "      220000       0.00      0.00      0.00         6\n",
      "      221000       0.00      0.00      0.00         0\n",
      "      222000       0.00      0.00      0.00         0\n",
      "      225000       0.40      0.29      0.33        14\n",
      "      227000       0.00      0.00      0.00         1\n",
      "      229999       0.36      0.36      0.36        11\n",
      "      233000       0.00      0.00      0.00         1\n",
      "      235000       0.00      0.00      0.00         1\n",
      "      239000       1.00      1.00      1.00         1\n",
      "      240000       0.00      0.00      0.00         6\n",
      "      245000       0.25      0.50      0.33         2\n",
      "      248000       0.00      0.00      0.00         1\n",
      "      249000       0.00      0.00      0.00         1\n",
      "      250000       0.10      0.12      0.11        26\n",
      "      250999       0.00      0.00      0.00         1\n",
      "      254999       0.00      0.00      0.00         0\n",
      "      260000       0.38      0.33      0.35         9\n",
      "      263000       0.00      0.00      0.00         1\n",
      "      265000       1.00      0.50      0.67         2\n",
      "      270000       0.00      0.00      0.00         1\n",
      "      271000       0.50      1.00      0.67         1\n",
      "      275000       0.00      0.00      0.00         4\n",
      "      280000       0.09      0.10      0.10        10\n",
      "      284000       0.00      0.00      0.00         1\n",
      "      285000       0.00      0.00      0.00         3\n",
      "      290000       0.50      0.50      0.50         4\n",
      "      291000       1.00      1.00      1.00         1\n",
      "      295000       0.00      0.00      0.00         3\n",
      "      300000       0.10      0.10      0.10        30\n",
      "      302000       0.00      0.00      0.00         0\n",
      "      310000       0.00      0.00      0.00         2\n",
      "      311000       0.00      0.00      0.00         1\n",
      "      315000       1.00      0.50      0.67         2\n",
      "      320000       0.17      0.08      0.11        12\n",
      "      321000       0.00      0.00      0.00         0\n",
      "      324000       0.00      0.00      0.00         1\n",
      "      325000       0.25      0.25      0.25         8\n",
      "      330000       0.00      0.00      0.00         2\n",
      "      335000       0.00      0.00      0.00         0\n",
      "      340000       0.00      0.00      0.00         1\n",
      "      341000       0.00      0.00      0.00         0\n",
      "      345000       0.00      0.00      0.00         1\n",
      "      350000       0.33      0.25      0.29        24\n",
      "      355000       0.50      1.00      0.67         1\n",
      "      360000       0.00      0.00      0.00         6\n",
      "      363000       0.00      0.00      0.00         1\n",
      "      365000       0.00      0.00      0.00         0\n",
      "      368000       1.00      1.00      1.00         1\n",
      "      370000       0.67      0.40      0.50         5\n",
      "      375000       0.00      0.00      0.00         5\n",
      "      377000       0.00      0.00      0.00         1\n",
      "      380000       0.00      0.00      0.00         5\n",
      "      385000       1.00      0.50      0.67         4\n",
      "      390000       0.00      0.00      0.00         5\n",
      "      395000       0.00      0.00      0.00         0\n",
      "      399000       0.00      0.00      0.00         2\n",
      "      400000       0.20      0.18      0.19        11\n",
      "      409999       1.00      0.25      0.40         4\n",
      "      415000       0.00      0.00      0.00         1\n",
      "      419000       0.00      0.00      0.00         1\n",
      "      420000       0.00      0.00      0.00         2\n",
      "      421000       0.00      0.00      0.00         1\n",
      "      425000       0.40      0.44      0.42         9\n",
      "      430000       0.40      0.50      0.44         4\n",
      "      434999       0.00      0.00      0.00         3\n",
      "      440000       0.00      0.00      0.00         1\n",
      "      450000       0.31      0.20      0.24        25\n",
      "      451000       0.33      1.00      0.50         1\n",
      "      459999       0.00      0.00      0.00         1\n",
      "      465000       0.00      0.00      0.00         1\n",
      "      470000       0.20      0.33      0.25         6\n",
      "      471000       0.00      0.00      0.00         1\n",
      "      475000       0.00      0.00      0.00         1\n",
      "      480000       0.00      0.00      0.00         5\n",
      "      484999       0.00      0.00      0.00         2\n",
      "      490000       0.33      0.25      0.29         4\n",
      "      495000       0.25      0.25      0.25         4\n",
      "      500000       0.47      0.40      0.43        20\n",
      "      509999       0.00      0.00      0.00         2\n",
      "      511000       0.00      0.00      0.00         2\n",
      "      515000       0.00      0.00      0.00         1\n",
      "      520000       0.80      1.00      0.89         4\n",
      "      525000       0.50      0.50      0.50         4\n",
      "      530000       0.50      1.00      0.67         3\n",
      "      535000       0.67      0.67      0.67         3\n",
      "      539000       1.00      1.00      1.00         1\n",
      "      540000       0.00      0.00      0.00         2\n",
      "      550000       0.37      0.32      0.34        22\n",
      "      570000       0.00      0.00      0.00         2\n",
      "      575000       0.33      0.25      0.29         4\n",
      "      580000       0.00      0.00      0.00         3\n",
      "      585000       0.12      0.50      0.20         2\n",
      "      590000       0.00      0.00      0.00         1\n",
      "      596000       0.00      0.00      0.00         1\n",
      "      599000       1.00      1.00      1.00         2\n",
      "      600000       0.30      0.32      0.31        19\n",
      "      610000       0.00      0.00      0.00         2\n",
      "      611000       0.00      0.00      0.00         3\n",
      "      612000       0.00      0.00      0.00         1\n",
      "      615000       0.00      0.00      0.00         0\n",
      "      619000       0.00      0.00      0.00         0\n",
      "      620000       0.00      0.00      0.00         1\n",
      "      624000       1.00      1.00      1.00         1\n",
      "      625000       0.57      0.57      0.57         7\n",
      "      630000       0.00      0.00      0.00         2\n",
      "      640000       0.00      0.00      0.00         4\n",
      "      650000       0.17      0.50      0.25        16\n",
      "      655000       0.00      0.00      0.00         2\n",
      "      660000       0.00      0.00      0.00         2\n",
      "      665000       0.00      0.00      0.00         1\n",
      "      670000       1.00      0.50      0.67         2\n",
      "      675000       0.50      0.50      0.50         2\n",
      "      680000       0.11      1.00      0.20         1\n",
      "      690000       0.50      0.50      0.50         2\n",
      "      699000       0.00      0.00      0.00         1\n",
      "      700000       0.25      0.18      0.21        11\n",
      "      701000       0.00      0.00      0.00         1\n",
      "      707000       0.00      0.00      0.00         0\n",
      "      711000       0.00      0.00      0.00         1\n",
      "      715000       1.00      1.00      1.00         1\n",
      "      720000       0.00      0.00      0.00         1\n",
      "      725000       0.00      0.00      0.00         3\n",
      "      730000       0.00      0.00      0.00         1\n",
      "      750000       0.45      0.36      0.40        14\n",
      "      751000       0.00      0.00      0.00         0\n",
      "      760000       0.67      1.00      0.80         2\n",
      "      763000       0.00      0.00      0.00         0\n",
      "      765000       0.00      0.00      0.00         1\n",
      "      770000       1.00      1.00      1.00         1\n",
      "      775000       0.00      0.00      0.00         1\n",
      "      780000       0.00      0.00      0.00         0\n",
      "      785000       0.00      0.00      0.00         1\n",
      "      790000       0.00      0.00      0.00         3\n",
      "      795000       0.00      0.00      0.00         0\n",
      "      800000       0.11      0.23      0.15        13\n",
      "      810000       0.00      0.00      0.00         1\n",
      "      819999       0.00      0.00      0.00         1\n",
      "      825000       0.00      0.00      0.00         1\n",
      "      836000       0.00      0.00      0.00         0\n",
      "      840000       0.00      0.00      0.00         1\n",
      "      850000       0.33      0.50      0.40         2\n",
      "      851000       1.00      1.00      1.00         1\n",
      "      860000       0.00      0.00      0.00         1\n",
      "      869999       0.00      0.00      0.00         1\n",
      "      880000       0.00      0.00      0.00         0\n",
      "      890000       0.00      0.00      0.00         2\n",
      "      900000       0.00      0.00      0.00         6\n",
      "      925000       0.00      0.00      0.00         3\n",
      "      930000       0.00      0.00      0.00         1\n",
      "      936999       0.00      0.00      0.00         1\n",
      "      940000       0.00      0.00      0.00         2\n",
      "      950000       0.50      0.17      0.25         6\n",
      "      975000       0.00      0.00      0.00         0\n",
      "     1000000       0.50      0.15      0.24        13\n",
      "     1025000       0.00      0.00      0.00         0\n",
      "     1050000       1.00      0.50      0.67         4\n",
      "     1068000       0.00      0.00      0.00         1\n",
      "     1075000       0.00      0.00      0.00         0\n",
      "     1100000       1.00      0.50      0.67         4\n",
      "     1125000       0.00      0.00      0.00         1\n",
      "     1140000       0.00      0.00      0.00         1\n",
      "     1150000       0.50      0.50      0.50         4\n",
      "     1190000       0.00      0.00      0.00         1\n",
      "     1200000       0.50      0.50      0.50         2\n",
      "     1225000       0.00      0.00      0.00         0\n",
      "     1230000       0.00      0.00      0.00         0\n",
      "     1250000       0.00      0.00      0.00         2\n",
      "     1260000       0.00      0.00      0.00         1\n",
      "     1300000       0.80      0.80      0.80         5\n",
      "     1331000       0.00      0.00      0.00         1\n",
      "     1334000       0.00      0.00      0.00         1\n",
      "     1400000       0.50      0.33      0.40         3\n",
      "     1470000       1.00      1.00      1.00         1\n",
      "     1475000       1.00      1.00      1.00         1\n",
      "     1490000       0.00      0.00      0.00         1\n",
      "     1500000       0.00      0.00      0.00         1\n",
      "     1549000       0.00      0.00      0.00         1\n",
      "     1550000       0.00      0.00      0.00         1\n",
      "     1580000       1.00      1.00      1.00         1\n",
      "     1650000       1.00      1.00      1.00         2\n",
      "     1700000       1.00      0.50      0.67         2\n",
      "     1770000       0.00      0.00      0.00         0\n",
      "     1800000       0.00      0.00      0.00         3\n",
      "     1850000       0.00      0.00      0.00         1\n",
      "     1900000       0.00      0.00      0.00         1\n",
      "     1950000       0.00      0.00      0.00         1\n",
      "     1964999       0.00      0.00      0.00         1\n",
      "     2000000       0.00      0.00      0.00         1\n",
      "     2150000       0.00      0.00      0.00         1\n",
      "     2200000       0.00      0.00      0.00         0\n",
      "     2349000       0.00      0.00      0.00         1\n",
      "     2500000       0.00      0.00      0.00         1\n",
      "     2595000       0.00      0.00      0.00         1\n",
      "     2600000       0.67      1.00      0.80         2\n",
      "     2700000       1.00      1.00      1.00         1\n",
      "     2750000       1.00      1.00      1.00         1\n",
      "     2800000       1.00      0.50      0.67         2\n",
      "     2900000       0.00      0.00      0.00         0\n",
      "     3200000       0.00      0.00      0.00         0\n",
      "     3500000       0.00      0.00      0.00         0\n",
      "     4000000       0.00      0.00      0.00         1\n",
      "     4800000       0.00      0.00      0.00         1\n",
      "     4950000       1.00      1.00      1.00         1\n",
      "     8900000       0.00      0.00      0.00         1\n",
      "\n",
      "    accuracy                           0.23       868\n",
      "   macro avg       0.21      0.20      0.19       868\n",
      "weighted avg       0.27      0.23      0.23       868\n",
      "\n"
     ]
    },
    {
     "name": "stderr",
     "output_type": "stream",
     "text": [
      "C:\\Users\\hansa.AMALARSHIALFI\\AppData\\Roaming\\Python\\Python312\\site-packages\\sklearn\\metrics\\_classification.py:1471: UndefinedMetricWarning: Precision and F-score are ill-defined and being set to 0.0 in labels with no predicted samples. Use `zero_division` parameter to control this behavior.\n",
      "  _warn_prf(average, modifier, msg_start, len(result))\n",
      "C:\\Users\\hansa.AMALARSHIALFI\\AppData\\Roaming\\Python\\Python312\\site-packages\\sklearn\\metrics\\_classification.py:1471: UndefinedMetricWarning: Recall and F-score are ill-defined and being set to 0.0 in labels with no true samples. Use `zero_division` parameter to control this behavior.\n",
      "  _warn_prf(average, modifier, msg_start, len(result))\n",
      "C:\\Users\\hansa.AMALARSHIALFI\\AppData\\Roaming\\Python\\Python312\\site-packages\\sklearn\\metrics\\_classification.py:1471: UndefinedMetricWarning: Precision and F-score are ill-defined and being set to 0.0 in labels with no predicted samples. Use `zero_division` parameter to control this behavior.\n",
      "  _warn_prf(average, modifier, msg_start, len(result))\n",
      "C:\\Users\\hansa.AMALARSHIALFI\\AppData\\Roaming\\Python\\Python312\\site-packages\\sklearn\\metrics\\_classification.py:1471: UndefinedMetricWarning: Recall and F-score are ill-defined and being set to 0.0 in labels with no true samples. Use `zero_division` parameter to control this behavior.\n",
      "  _warn_prf(average, modifier, msg_start, len(result))\n",
      "C:\\Users\\hansa.AMALARSHIALFI\\AppData\\Roaming\\Python\\Python312\\site-packages\\sklearn\\metrics\\_classification.py:1471: UndefinedMetricWarning: Precision and F-score are ill-defined and being set to 0.0 in labels with no predicted samples. Use `zero_division` parameter to control this behavior.\n",
      "  _warn_prf(average, modifier, msg_start, len(result))\n",
      "C:\\Users\\hansa.AMALARSHIALFI\\AppData\\Roaming\\Python\\Python312\\site-packages\\sklearn\\metrics\\_classification.py:1471: UndefinedMetricWarning: Recall and F-score are ill-defined and being set to 0.0 in labels with no true samples. Use `zero_division` parameter to control this behavior.\n",
      "  _warn_prf(average, modifier, msg_start, len(result))\n"
     ]
    }
   ],
   "source": [
    "\n",
    "\n",
    "cr = classification_report(y_test,y_pred)\n",
    "print('Classification Report:')\n",
    "print(cr)"
   ]
  },
  {
   "cell_type": "code",
   "execution_count": 25,
   "id": "12ab726a",
   "metadata": {},
   "outputs": [],
   "source": [
    "categorical_cols = x.select_dtypes(include='object').columns.tolist"
   ]
  },
  {
   "cell_type": "code",
   "execution_count": 26,
   "id": "d175b388",
   "metadata": {},
   "outputs": [],
   "source": [
    "from sklearn.preprocessing import OneHotEncoder\n",
    "from sklearn.compose import ColumnTransformer\n",
    "\n",
    "categorical_cols = ['fuel', 'seller_type', 'transmission', 'owner']\n",
    "\n",
    "preprocessor = ColumnTransformer(\n",
    "    transformers=[\n",
    "        ('cat', OneHotEncoder(handle_unknown='ignore'), categorical_cols)\n",
    "    ],\n",
    "    remainder='passthrough'  \n",
    ")\n"
   ]
  },
  {
   "cell_type": "code",
   "execution_count": 27,
   "id": "83b3a493",
   "metadata": {},
   "outputs": [],
   "source": [
    "from sklearn.pipeline import Pipeline \n",
    "from sklearn.metrics import mean_squared_error,r2_score\n",
    "from sklearn.ensemble import RandomForestRegressor"
   ]
  },
  {
   "cell_type": "code",
   "execution_count": 28,
   "id": "5a579129",
   "metadata": {},
   "outputs": [],
   "source": [
    "Pipeline = Pipeline(steps=[\n",
    "    ('preprocessor',preprocessor),\n",
    "    ('model', RandomForestRegressor(n_estimators=100,random_state=42))\n",
    "])"
   ]
  },
  {
   "cell_type": "code",
   "execution_count": 29,
   "id": "f3ba88fa",
   "metadata": {},
   "outputs": [],
   "source": [
    "x_train,x_test,y_train,y_test = train_test_split(x,y,test_size=0.2,random_state=42)"
   ]
  },
  {
   "cell_type": "code",
   "execution_count": 30,
   "id": "f69b57da",
   "metadata": {},
   "outputs": [
    {
     "name": "stdout",
     "output_type": "stream",
     "text": [
      "Model evaluation:\n",
      "MSE:165194224931.286865\n",
      "R:0.46\n"
     ]
    }
   ],
   "source": [
    "mse =mean_squared_error(y_test,y_pred)\n",
    "r2=r2_score(y_test,y_pred)\n",
    "print(f\"Model evaluation:\")\n",
    "print(f\"MSE:{mse:2f}\")\n",
    "print(f\"R:{r2:.2f}\")"
   ]
  },
  {
   "cell_type": "code",
   "execution_count": 6,
   "id": "9fb54796",
   "metadata": {},
   "outputs": [
    {
     "ename": "NameError",
     "evalue": "name 'x' is not defined",
     "output_type": "error",
     "traceback": [
      "\u001b[31m---------------------------------------------------------------------------\u001b[39m",
      "\u001b[31mNameError\u001b[39m                                 Traceback (most recent call last)",
      "\u001b[36mCell\u001b[39m\u001b[36m \u001b[39m\u001b[32mIn[6]\u001b[39m\u001b[32m, line 1\u001b[39m\n\u001b[32m----> \u001b[39m\u001b[32m1\u001b[39m categorical_cols = \u001b[43mx\u001b[49m.select_dtypes(include=[\u001b[33m'\u001b[39m\u001b[33mobject\u001b[39m\u001b[33m'\u001b[39m]).columns.tolist()\n",
      "\u001b[31mNameError\u001b[39m: name 'x' is not defined"
     ]
    }
   ],
   "source": [
    "categorical_cols = x.select_dtypes(include=['object']).columns.tolist()\n"
   ]
  },
  {
   "cell_type": "code",
   "execution_count": 5,
   "id": "b3cec871",
   "metadata": {},
   "outputs": [
    {
     "ename": "NameError",
     "evalue": "name 'categorical_cols' is not defined",
     "output_type": "error",
     "traceback": [
      "\u001b[31m---------------------------------------------------------------------------\u001b[39m",
      "\u001b[31mNameError\u001b[39m                                 Traceback (most recent call last)",
      "\u001b[36mCell\u001b[39m\u001b[36m \u001b[39m\u001b[32mIn[5]\u001b[39m\u001b[32m, line 8\u001b[39m\n\u001b[32m      3\u001b[39m \u001b[38;5;28;01mfrom\u001b[39;00m\u001b[38;5;250m \u001b[39m\u001b[34;01msklearn\u001b[39;00m\u001b[34;01m.\u001b[39;00m\u001b[34;01mpreprocessing\u001b[39;00m\u001b[38;5;250m \u001b[39m\u001b[38;5;28;01mimport\u001b[39;00m StandardScaler\n\u001b[32m      5\u001b[39m \u001b[38;5;66;03m# Preprocessor\u001b[39;00m\n\u001b[32m      6\u001b[39m preprocessor = ColumnTransformer(\n\u001b[32m      7\u001b[39m     transformers=[\n\u001b[32m----> \u001b[39m\u001b[32m8\u001b[39m         (\u001b[33m'\u001b[39m\u001b[33mcat\u001b[39m\u001b[33m'\u001b[39m, OneHotEncoder(handle_unknown=\u001b[33m'\u001b[39m\u001b[33mignore\u001b[39m\u001b[33m'\u001b[39m), \u001b[43mcategorical_cols\u001b[49m)\n\u001b[32m      9\u001b[39m     ],\n\u001b[32m     10\u001b[39m     remainder=\u001b[33m'\u001b[39m\u001b[33mpassthrough\u001b[39m\u001b[33m'\u001b[39m  \u001b[38;5;66;03m# This keeps numeric columns as is\u001b[39;00m\n\u001b[32m     11\u001b[39m )\n",
      "\u001b[31mNameError\u001b[39m: name 'categorical_cols' is not defined"
     ]
    }
   ],
   "source": [
    "from sklearn.preprocessing import OneHotEncoder\n",
    "from sklearn.compose import ColumnTransformer\n",
    "from sklearn.preprocessing import StandardScaler\n",
    "\n",
    "# Preprocessor\n",
    "preprocessor = ColumnTransformer(\n",
    "    transformers=[\n",
    "        ('cat', OneHotEncoder(handle_unknown='ignore'), categorical_cols)\n",
    "    ],\n",
    "    remainder='passthrough'  # This keeps numeric columns as is\n",
    ")\n"
   ]
  },
  {
   "cell_type": "code",
   "execution_count": 4,
   "id": "e45bea70",
   "metadata": {},
   "outputs": [
    {
     "ename": "NameError",
     "evalue": "name 'preprocessor' is not defined",
     "output_type": "error",
     "traceback": [
      "\u001b[31m---------------------------------------------------------------------------\u001b[39m",
      "\u001b[31mNameError\u001b[39m                                 Traceback (most recent call last)",
      "\u001b[36mCell\u001b[39m\u001b[36m \u001b[39m\u001b[32mIn[4]\u001b[39m\u001b[32m, line 1\u001b[39m\n\u001b[32m----> \u001b[39m\u001b[32m1\u001b[39m x_processed = \u001b[43mpreprocessor\u001b[49m.fit_transform(x)\n",
      "\u001b[31mNameError\u001b[39m: name 'preprocessor' is not defined"
     ]
    }
   ],
   "source": [
    "x_processed = preprocessor.fit_transform(x)\n"
   ]
  },
  {
   "cell_type": "code",
   "execution_count": 3,
   "id": "0c78c8f3",
   "metadata": {},
   "outputs": [
    {
     "ename": "NameError",
     "evalue": "name 'x_processed' is not defined",
     "output_type": "error",
     "traceback": [
      "\u001b[31m---------------------------------------------------------------------------\u001b[39m",
      "\u001b[31mNameError\u001b[39m                                 Traceback (most recent call last)",
      "\u001b[36mCell\u001b[39m\u001b[36m \u001b[39m\u001b[32mIn[3]\u001b[39m\u001b[32m, line 3\u001b[39m\n\u001b[32m      1\u001b[39m \u001b[38;5;28;01mfrom\u001b[39;00m\u001b[38;5;250m \u001b[39m\u001b[34;01msklearn\u001b[39;00m\u001b[34;01m.\u001b[39;00m\u001b[34;01mmodel_selection\u001b[39;00m\u001b[38;5;250m \u001b[39m\u001b[38;5;28;01mimport\u001b[39;00m train_test_split\n\u001b[32m----> \u001b[39m\u001b[32m3\u001b[39m x_train, x_test, y_train, y_test = train_test_split(\u001b[43mx_processed\u001b[49m, y, test_size=\u001b[32m0.2\u001b[39m, random_state=\u001b[32m42\u001b[39m)\n",
      "\u001b[31mNameError\u001b[39m: name 'x_processed' is not defined"
     ]
    }
   ],
   "source": [
    "from sklearn.model_selection import train_test_split\n",
    "\n",
    "x_train, x_test, y_train, y_test = train_test_split(x_processed, y, test_size=0.2, random_state=42)\n"
   ]
  },
  {
   "cell_type": "code",
   "execution_count": 1,
   "id": "2d2f8145",
   "metadata": {},
   "outputs": [
    {
     "ename": "NameError",
     "evalue": "name 'x_train' is not defined",
     "output_type": "error",
     "traceback": [
      "\u001b[31m---------------------------------------------------------------------------\u001b[39m",
      "\u001b[31mNameError\u001b[39m                                 Traceback (most recent call last)",
      "\u001b[36mCell\u001b[39m\u001b[36m \u001b[39m\u001b[32mIn[1]\u001b[39m\u001b[32m, line 7\u001b[39m\n\u001b[32m      4\u001b[39m svm_classifier = SVC(kernel=\u001b[33m'\u001b[39m\u001b[33mlinear\u001b[39m\u001b[33m'\u001b[39m)  \u001b[38;5;66;03m# or 'rbf', 'poly', etc.\u001b[39;00m\n\u001b[32m      6\u001b[39m \u001b[38;5;66;03m# Fit the model\u001b[39;00m\n\u001b[32m----> \u001b[39m\u001b[32m7\u001b[39m svm_classifier.fit(\u001b[43mx_train\u001b[49m, y_train)\n\u001b[32m      9\u001b[39m \u001b[38;5;66;03m# Predict\u001b[39;00m\n\u001b[32m     10\u001b[39m y_pred = svm_classifier.predict(x_test)\n",
      "\u001b[31mNameError\u001b[39m: name 'x_train' is not defined"
     ]
    }
   ],
   "source": [
    "from sklearn.svm import SVC  # Support Vector Classifier\n",
    "\n",
    "# Create the model\n",
    "svm_classifier = SVC(kernel='linear')  # or 'rbf', 'poly', etc.\n",
    "\n",
    "# Fit the model\n",
    "svm_classifier.fit(x_train, y_train)\n",
    "\n",
    "# Predict\n",
    "y_pred = svm_classifier.predict(x_test)\n",
    "\n",
    "# Print model\n",
    "print(svm_classifier)\n"
   ]
  },
  {
   "cell_type": "markdown",
   "id": "2a8c6641",
   "metadata": {},
   "source": [
    "HISTOGRAM-Selling Price Distribution"
   ]
  },
  {
   "cell_type": "code",
   "execution_count": null,
   "id": "1bc12352",
   "metadata": {},
   "outputs": [
    {
     "data": {
      "image/png": "[encoded data removed]",
      "text/plain": [
       "<Figure size 800x500 with 1 Axes>"
      ]
     },
     "metadata": {},
     "output_type": "display_data"
    }
   ],
   "source": [
    "plt.figure(figsize=(8, 5))\n",
    "sns.histplot(df['selling_price'], bins=10, kde=True, color='skyblue')\n",
    "plt.title('Distribution of Selling Price')\n",
    "plt.xlabel('Selling Price')\n",
    "plt.ylabel('Count')\n",
    "plt.grid(True)\n",
    "plt.show()"
   ]
  },
  {
   "cell_type": "markdown",
   "id": "53951d6b",
   "metadata": {},
   "source": [
    "BARPLOT-Average Price by Fuel Type"
   ]
  },
  {
   "cell_type": "code",
   "execution_count": null,
   "id": "86df2eff",
   "metadata": {},
   "outputs": [
    {
     "name": "stderr",
     "output_type": "stream",
     "text": [
      "C:\\Users\\hansa.AMALARSHIALFI\\AppData\\Local\\Temp\\ipykernel_27856\\4174488954.py:2: FutureWarning: \n",
      "\n",
      "The `ci` parameter is deprecated. Use `errorbar=None` for the same effect.\n",
      "\n",
      "  sns.barplot(x='fuel', y='selling_price', data=df, ci=None, palette='pastel')\n",
      "C:\\Users\\hansa.AMALARSHIALFI\\AppData\\Local\\Temp\\ipykernel_27856\\4174488954.py:2: FutureWarning: \n",
      "\n",
      "Passing `palette` without assigning `hue` is deprecated and will be removed in v0.14.0. Assign the `x` variable to `hue` and set `legend=False` for the same effect.\n",
      "\n",
      "  sns.barplot(x='fuel', y='selling_price', data=df, ci=None, palette='pastel')\n"
     ]
    },
    {
     "data": {
      "image/png": "[encoded data removed]",
      "text/plain": [
       "<Figure size 700x500 with 1 Axes>"
      ]
     },
     "metadata": {},
     "output_type": "display_data"
    }
   ],
   "source": [
    "plt.figure(figsize=(7, 5))\n",
    "sns.barplot(x='fuel', y='selling_price', data=df, ci=None, palette='pastel')\n",
    "plt.title('Average Selling Price by Fuel Type')\n",
    "plt.ylabel('Average Price')\n",
    "plt.xlabel('Fuel Type')\n",
    "plt.grid(True)\n",
    "plt.show()"
   ]
  },
  {
   "cell_type": "markdown",
   "id": "161c8d7e",
   "metadata": {},
   "source": [
    "COUNT Plot-Transmission Type"
   ]
  },
  {
   "cell_type": "code",
   "execution_count": null,
   "id": "6faf3c7c",
   "metadata": {},
   "outputs": [
    {
     "name": "stderr",
     "output_type": "stream",
     "text": [
      "C:\\Users\\hansa.AMALARSHIALFI\\AppData\\Local\\Temp\\ipykernel_27856\\1869624239.py:2: FutureWarning: \n",
      "\n",
      "Passing `palette` without assigning `hue` is deprecated and will be removed in v0.14.0. Assign the `x` variable to `hue` and set `legend=False` for the same effect.\n",
      "\n",
      "  sns.countplot(x='transmission', data=df, palette='Set2')\n"
     ]
    },
    {
     "data": {
      "image/png": "[encoded data removed]",
      "text/plain": [
       "<Figure size 600x400 with 1 Axes>"
      ]
     },
     "metadata": {},
     "output_type": "display_data"
    }
   ],
   "source": [
    "plt.figure(figsize=(6, 4))\n",
    "sns.countplot(x='transmission', data=df, palette='Set2')\n",
    "plt.title('Count of Cars by Transmission Type')\n",
    "plt.show()"
   ]
  },
  {
   "cell_type": "markdown",
   "id": "291979dd",
   "metadata": {},
   "source": [
    "COUNT Plot - Cars by Owner Type\n"
   ]
  },
  {
   "cell_type": "code",
   "execution_count": null,
   "id": "e94a2c92",
   "metadata": {},
   "outputs": [
    {
     "name": "stderr",
     "output_type": "stream",
     "text": [
      "C:\\Users\\hansa.AMALARSHIALFI\\AppData\\Local\\Temp\\ipykernel_27856\\1113500037.py:2: FutureWarning: \n",
      "\n",
      "Passing `palette` without assigning `hue` is deprecated and will be removed in v0.14.0. Assign the `x` variable to `hue` and set `legend=False` for the same effect.\n",
      "\n",
      "  sns.countplot(x='owner', data=df, palette='muted')\n"
     ]
    },
    {
     "data": {
      "image/png": "[encoded data removed]",
      "text/plain": [
       "<Figure size 800x400 with 1 Axes>"
      ]
     },
     "metadata": {},
     "output_type": "display_data"
    }
   ],
   "source": [
    "plt.figure(figsize=(8, 4))\n",
    "sns.countplot(x='owner', data=df, palette='muted')\n",
    "plt.title('Car Count by Owner Type')\n",
    "plt.xticks(rotation=15)\n",
    "plt.show()"
   ]
  },
  {
   "cell_type": "markdown",
   "id": "2031fee0",
   "metadata": {},
   "source": [
    "Scatter Plot - Price vs. Kilometers Driven\n"
   ]
  },
  {
   "cell_type": "code",
   "execution_count": null,
   "id": "828595a0",
   "metadata": {},
   "outputs": [
    {
     "data": {
      "image/png": "[encoded data removed]",
      "text/plain": [
       "<Figure size 800x500 with 1 Axes>"
      ]
     },
     "metadata": {},
     "output_type": "display_data"
    }
   ],
   "source": [
    "plt.figure(figsize=(8, 5))\n",
    "sns.scatterplot(x='km_driven', y='selling_price', hue='fuel', data=df)\n",
    "plt.title('Selling Price vs. KM Driven')\n",
    "plt.xlabel('KM Driven')\n",
    "plt.ylabel('Selling Price')\n",
    "plt.grid(True)\n",
    "plt.show()"
   ]
  },
  {
   "cell_type": "markdown",
   "id": "6e9113c6",
   "metadata": {},
   "source": [
    "Box Plot - Selling Price by Owner \n"
   ]
  },
  {
   "cell_type": "code",
   "execution_count": null,
   "id": "e2a96f31",
   "metadata": {},
   "outputs": [
    {
     "name": "stderr",
     "output_type": "stream",
     "text": [
      "C:\\Users\\hansa.AMALARSHIALFI\\AppData\\Local\\Temp\\ipykernel_27856\\1817436630.py:2: FutureWarning: \n",
      "\n",
      "Passing `palette` without assigning `hue` is deprecated and will be removed in v0.14.0. Assign the `x` variable to `hue` and set `legend=False` for the same effect.\n",
      "\n",
      "  sns.boxplot(x='owner', y='selling_price', data=df, palette='coolwarm')\n"
     ]
    },
    {
     "data": {
      "image/png": "[encoded data removed]",
      "text/plain": [
       "<Figure size 800x500 with 1 Axes>"
      ]
     },
     "metadata": {},
     "output_type": "display_data"
    }
   ],
   "source": [
    "plt.figure(figsize=(8, 5))\n",
    "sns.boxplot(x='owner', y='selling_price', data=df, palette='coolwarm')\n",
    "plt.title('Selling Price by Ownership Type')\n",
    "plt.show()"
   ]
  },
  {
   "cell_type": "markdown",
   "id": "787d6569",
   "metadata": {},
   "source": [
    "Line Plot - Year vs. Average Price"
   ]
  },
  {
   "cell_type": "code",
   "execution_count": null,
   "id": "3ce25cb9",
   "metadata": {},
   "outputs": [
    {
     "data": {
      "image/png": "[encoded data removed]",
      "text/plain": [
       "<Figure size 900x500 with 1 Axes>"
      ]
     },
     "metadata": {},
     "output_type": "display_data"
    }
   ],
   "source": [
    "yearly_price = df.groupby('year')['selling_price'].mean().reset_index()\n",
    "plt.figure(figsize=(9, 5))\n",
    "sns.lineplot(x='year', y='selling_price', data=yearly_price, marker='o', color='green')\n",
    "plt.title('Average Selling Price Over Years')\n",
    "plt.xlabel('Year')\n",
    "plt.ylabel('Average Price')\n",
    "plt.xticks(rotation=45)\n",
    "plt.grid(True)\n",
    "plt.show()\n"
   ]
  },
  {
   "cell_type": "markdown",
   "id": "7c0ffed0",
   "metadata": {},
   "source": [
    "Pie Chart - Fuel Type Distribution \n"
   ]
  },
  {
   "cell_type": "code",
   "execution_count": null,
   "id": "9e087af5",
   "metadata": {},
   "outputs": [
    {
     "data": {
      "image/png": "[encoded data removed]",
      "text/plain": [
       "<Figure size 600x600 with 1 Axes>"
      ]
     },
     "metadata": {},
     "output_type": "display_data"
    }
   ],
   "source": [
    "fuel_counts = df['fuel'].value_counts()\n",
    "plt.figure(figsize=(6, 6))\n",
    "plt.pie(fuel_counts, labels=fuel_counts.index, autopct='%1.1f%%', startangle=90, colors=sns.color_palette('pastel'))\n",
    "plt.title('Fuel Type Distribution')\n",
    "plt.axis('equal')\n",
    "plt.show()"
   ]
  },
  {
   "cell_type": "code",
   "execution_count": 7,
   "id": "0996ca3e",
   "metadata": {},
   "outputs": [],
   "source": [
    "# Create classification target from selling_price\n",
    "import pandas as pd\n",
    "df = pd.read_csv(r\"C:\\Users\\hansa.AMALARSHIALFI\\Downloads\\CAR DETAILS FROM CAR DEKHO.csv\")\n",
    "\n",
    "df['price_class'] = pd.qcut(df['selling_price'], q=3, labels=['Low', 'Mid', 'High'])"
   ]
  },
  {
   "cell_type": "code",
   "execution_count": 8,
   "id": "15fe3149",
   "metadata": {},
   "outputs": [],
   "source": [
    "from sklearn.model_selection import train_test_split\n",
    "# Extract the brand name (first word from 'name' column)\n",
    "df['brand'] = df['name'].str.split().str[0]\n",
    "\n",
    "x = df[['year', 'km_driven', 'fuel', 'seller_type', 'transmission', 'owner', 'brand']]\n",
    "y = df['price_class']\n",
    "\n",
    "x_train, x_test, y_train, y_test = train_test_split(x, y, test_size=0.2, random_state=42)"
   ]
  },
  {
   "cell_type": "code",
   "execution_count": 9,
   "id": "6d7c36b9",
   "metadata": {},
   "outputs": [],
   "source": [
    "from sklearn.compose import ColumnTransformer\n",
    "from sklearn.preprocessing import OneHotEncoder\n",
    "\n",
    "categorical_cols = x.select_dtypes(include='object').columns.tolist()\n",
    "\n",
    "preprocessor = ColumnTransformer(\n",
    "    transformers=[('cat', OneHotEncoder(handle_unknown='ignore'), categorical_cols)],\n",
    "    remainder='passthrough'\n",
    ")\n",
    "\n",
    "x_train_transformed = preprocessor.fit_transform(x_train)\n",
    "x_test_transformed = preprocessor.transform(x_test)"
   ]
  },
  {
   "cell_type": "code",
   "execution_count": 10,
   "id": "babea1be",
   "metadata": {},
   "outputs": [],
   "source": [
    "from sklearn.linear_model import LogisticRegression\n",
    "from sklearn.ensemble import RandomForestClassifier\n",
    "from sklearn.svm import SVC\n",
    "from sklearn.naive_bayes import GaussianNB, CategoricalNB\n",
    "from sklearn.pipeline import Pipeline\n",
    "from sklearn.metrics import accuracy_score"
   ]
  },
  {
   "cell_type": "markdown",
   "id": "9caa8238",
   "metadata": {},
   "source": [
    "logistic regression"
   ]
  },
  {
   "cell_type": "code",
   "execution_count": 11,
   "id": "c57a75e8",
   "metadata": {},
   "outputs": [],
   "source": [
    "lr = LogisticRegression(max_iter=200)\n",
    "lr.fit(x_train_transformed, y_train)\n",
    "y_pred_lr = lr.predict(x_test_transformed)"
   ]
  },
  {
   "cell_type": "markdown",
   "id": "b7529f85",
   "metadata": {},
   "source": [
    "support vector machine"
   ]
  },
  {
   "cell_type": "code",
   "execution_count": 12,
   "id": "9d0d7063",
   "metadata": {},
   "outputs": [
    {
     "name": "stderr",
     "output_type": "stream",
     "text": [
      "C:\\Users\\hansa.AMALARSHIALFI\\AppData\\Roaming\\Python\\Python312\\site-packages\\sklearn\\svm\\_base.py:297: ConvergenceWarning: Solver terminated early (max_iter=251).  Consider pre-processing your data with StandardScaler or MinMaxScaler.\n",
      "  warnings.warn(\n"
     ]
    }
   ],
   "source": [
    "svm = SVC(kernel='linear', max_iter=251, random_state=0)\n",
    "svm.fit(x_train_transformed, y_train)\n",
    "y_pred_svm = svm.predict(x_test_transformed)"
   ]
  },
  {
   "cell_type": "markdown",
   "id": "0ee87c6d",
   "metadata": {},
   "source": [
    "gaussian naive bayes"
   ]
  },
  {
   "cell_type": "code",
   "execution_count": 13,
   "id": "c6cd731a",
   "metadata": {},
   "outputs": [],
   "source": [
    "gnb = GaussianNB()\n",
    "gnb.fit(x_train_transformed.toarray(), y_train) \n",
    "y_pred_gnb = gnb.predict(x_test_transformed.toarray())"
   ]
  },
  {
   "cell_type": "markdown",
   "id": "501f9c8e",
   "metadata": {},
   "source": [
    "categorical naive bayes"
   ]
  },
  {
   "cell_type": "code",
   "execution_count": 15,
   "id": "93b39a56",
   "metadata": {},
   "outputs": [],
   "source": [
    "cnb = CategoricalNB()\n",
    "cnb.fit(x_train_transformed.toarray(), y_train)\n",
    "y_pred_cnb = cnb.predict(x_test_transformed.toarray())"
   ]
  },
  {
   "cell_type": "markdown",
   "id": "3ee0ea6e",
   "metadata": {},
   "source": [
    "random forest"
   ]
  },
  {
   "cell_type": "code",
   "execution_count": 16,
   "id": "5175f1ba",
   "metadata": {},
   "outputs": [],
   "source": [
    "from sklearn.pipeline import make_pipeline\n",
    "\n",
    "rfc_model = make_pipeline(preprocessor, RandomForestClassifier(random_state=42))\n",
    "rfc_model.fit(x_train, y_train)\n",
    "y_pred_rfc = rfc_model.predict(x_test)"
   ]
  },
  {
   "cell_type": "code",
   "execution_count": 17,
   "id": "a41507e6",
   "metadata": {},
   "outputs": [],
   "source": [
    "results = []\n",
    "\n",
    "results.append(['Logistic Regression', accuracy_score(y_test, y_pred_lr) * 100])\n",
    "results.append(['SVM', accuracy_score(y_test, y_pred_svm) * 100])\n",
    "results.append(['Gaussian NB', accuracy_score(y_test, y_pred_gnb) * 100])\n",
    "results.append(['Categorical NB', accuracy_score(y_test, y_pred_cnb) * 100])\n",
    "results.append(['Random Forest Classifier', accuracy_score(y_test, y_pred_rfc) * 100])"
   ]
  },
  {
   "cell_type": "code",
   "execution_count": 18,
   "id": "e4fa041a",
   "metadata": {},
   "outputs": [
    {
     "name": "stdout",
     "output_type": "stream",
     "text": [
      "                      Model Accuracy\n",
      "0       Logistic Regression   47.24%\n",
      "1                       SVM   31.11%\n",
      "2               Gaussian NB   64.63%\n",
      "3            Categorical NB   70.39%\n",
      "4  Random Forest Classifier   78.80%\n"
     ]
    }
   ],
   "source": [
    "import pandas as pd\n",
    "\n",
    "# Convert results list to a DataFrame\n",
    "results_df = pd.DataFrame(results, columns=[\"Model\", \"Accuracy\"])\n",
    "\n",
    "# Format accuracy to 2 decimal places\n",
    "results_df[\"Accuracy\"] = results_df[\"Accuracy\"].map(\"{:.2f}%\".format)\n",
    "\n",
    "# Display the table\n",
    "print(results_df)"
   ]
  },
  {
   "cell_type": "code",
   "execution_count": null,
   "id": "e12a8b49",
   "metadata": {},
   "outputs": [],
   "source": []
  }
 ],
 "metadata": {
  "kernelspec": {
   "display_name": "Python 3",
   "language": "python",
   "name": "python3"
  },
  "language_info": {
   "codemirror_mode": {
    "name": "ipython",
    "version": 3
   },
   "file_extension": ".py",
   "mimetype": "text/x-python",
   "name": "python",
   "nbconvert_exporter": "python",
   "pygments_lexer": "ipython3",
   "version": "3.12.9"
  }
 },
 "nbformat": 4,
 "nbformat_minor": 5
}
